{
 "cells": [
  {
   "cell_type": "markdown",
   "metadata": {},
   "source": [
    "# Exploração dos Dados"
   ]
  },
  {
   "cell_type": "code",
   "execution_count": 1,
   "metadata": {
    "ExecuteTime": {
     "end_time": "2022-07-23T23:41:00.832467Z",
     "start_time": "2022-07-23T23:40:54.011470Z"
    }
   },
   "outputs": [],
   "source": [
    "import pandas as pd\n",
    "import altair as alt\n",
    "import numpy as np"
   ]
  },
  {
   "cell_type": "code",
   "execution_count": 2,
   "metadata": {
    "ExecuteTime": {
     "end_time": "2022-07-23T23:41:00.992164Z",
     "start_time": "2022-07-23T23:41:00.840445Z"
    }
   },
   "outputs": [],
   "source": [
    "bank_train = pd.read_csv(\"../data/interim/bank_train.csv\")"
   ]
  },
  {
   "cell_type": "code",
   "execution_count": 16,
   "metadata": {
    "ExecuteTime": {
     "end_time": "2022-07-24T00:33:44.646446Z",
     "start_time": "2022-07-24T00:33:44.591324Z"
    }
   },
   "outputs": [
    {
     "data": {
      "text/html": [
       "<div>\n",
       "<style scoped>\n",
       "    .dataframe tbody tr th:only-of-type {\n",
       "        vertical-align: middle;\n",
       "    }\n",
       "\n",
       "    .dataframe tbody tr th {\n",
       "        vertical-align: top;\n",
       "    }\n",
       "\n",
       "    .dataframe thead th {\n",
       "        text-align: right;\n",
       "    }\n",
       "</style>\n",
       "<table border=\"1\" class=\"dataframe\">\n",
       "  <thead>\n",
       "    <tr style=\"text-align: right;\">\n",
       "      <th></th>\n",
       "      <th>age</th>\n",
       "      <th>job</th>\n",
       "      <th>marital</th>\n",
       "      <th>education</th>\n",
       "      <th>default</th>\n",
       "      <th>housing</th>\n",
       "      <th>loan</th>\n",
       "      <th>contact</th>\n",
       "      <th>month</th>\n",
       "      <th>day_of_week</th>\n",
       "      <th>duration</th>\n",
       "      <th>campaign</th>\n",
       "      <th>pdays</th>\n",
       "      <th>previous</th>\n",
       "      <th>poutcome</th>\n",
       "      <th>emp.var.rate</th>\n",
       "      <th>cons.price.idx</th>\n",
       "      <th>cons.conf.idx</th>\n",
       "      <th>euribor3m</th>\n",
       "      <th>nr.employed</th>\n",
       "    </tr>\n",
       "  </thead>\n",
       "  <tbody>\n",
       "    <tr>\n",
       "      <th>0</th>\n",
       "      <td>29</td>\n",
       "      <td>admin.</td>\n",
       "      <td>married</td>\n",
       "      <td>university.degree</td>\n",
       "      <td>no</td>\n",
       "      <td>no</td>\n",
       "      <td>no</td>\n",
       "      <td>cellular</td>\n",
       "      <td>dec</td>\n",
       "      <td>mon</td>\n",
       "      <td>77</td>\n",
       "      <td>3</td>\n",
       "      <td>999</td>\n",
       "      <td>1</td>\n",
       "      <td>failure</td>\n",
       "      <td>-3.0</td>\n",
       "      <td>92.713</td>\n",
       "      <td>-33.0</td>\n",
       "      <td>0.709</td>\n",
       "      <td>5023.5</td>\n",
       "    </tr>\n",
       "    <tr>\n",
       "      <th>1</th>\n",
       "      <td>29</td>\n",
       "      <td>technician</td>\n",
       "      <td>single</td>\n",
       "      <td>university.degree</td>\n",
       "      <td>no</td>\n",
       "      <td>no</td>\n",
       "      <td>no</td>\n",
       "      <td>telephone</td>\n",
       "      <td>may</td>\n",
       "      <td>fri</td>\n",
       "      <td>12</td>\n",
       "      <td>4</td>\n",
       "      <td>999</td>\n",
       "      <td>0</td>\n",
       "      <td>nonexistent</td>\n",
       "      <td>-1.8</td>\n",
       "      <td>92.893</td>\n",
       "      <td>-46.2</td>\n",
       "      <td>1.250</td>\n",
       "      <td>5099.1</td>\n",
       "    </tr>\n",
       "    <tr>\n",
       "      <th>2</th>\n",
       "      <td>45</td>\n",
       "      <td>blue-collar</td>\n",
       "      <td>married</td>\n",
       "      <td>basic.6y</td>\n",
       "      <td>unknown</td>\n",
       "      <td>yes</td>\n",
       "      <td>no</td>\n",
       "      <td>telephone</td>\n",
       "      <td>may</td>\n",
       "      <td>thu</td>\n",
       "      <td>277</td>\n",
       "      <td>2</td>\n",
       "      <td>999</td>\n",
       "      <td>0</td>\n",
       "      <td>nonexistent</td>\n",
       "      <td>1.1</td>\n",
       "      <td>93.994</td>\n",
       "      <td>-36.4</td>\n",
       "      <td>4.860</td>\n",
       "      <td>5191.0</td>\n",
       "    </tr>\n",
       "    <tr>\n",
       "      <th>3</th>\n",
       "      <td>34</td>\n",
       "      <td>services</td>\n",
       "      <td>married</td>\n",
       "      <td>university.degree</td>\n",
       "      <td>no</td>\n",
       "      <td>no</td>\n",
       "      <td>no</td>\n",
       "      <td>cellular</td>\n",
       "      <td>may</td>\n",
       "      <td>thu</td>\n",
       "      <td>70</td>\n",
       "      <td>1</td>\n",
       "      <td>999</td>\n",
       "      <td>1</td>\n",
       "      <td>failure</td>\n",
       "      <td>-1.8</td>\n",
       "      <td>92.893</td>\n",
       "      <td>-46.2</td>\n",
       "      <td>1.327</td>\n",
       "      <td>5099.1</td>\n",
       "    </tr>\n",
       "    <tr>\n",
       "      <th>4</th>\n",
       "      <td>32</td>\n",
       "      <td>admin.</td>\n",
       "      <td>single</td>\n",
       "      <td>high.school</td>\n",
       "      <td>no</td>\n",
       "      <td>no</td>\n",
       "      <td>no</td>\n",
       "      <td>cellular</td>\n",
       "      <td>may</td>\n",
       "      <td>fri</td>\n",
       "      <td>1181</td>\n",
       "      <td>9</td>\n",
       "      <td>999</td>\n",
       "      <td>0</td>\n",
       "      <td>nonexistent</td>\n",
       "      <td>-1.8</td>\n",
       "      <td>92.893</td>\n",
       "      <td>-46.2</td>\n",
       "      <td>1.250</td>\n",
       "      <td>5099.1</td>\n",
       "    </tr>\n",
       "  </tbody>\n",
       "</table>\n",
       "</div>"
      ],
      "text/plain": [
       "   age          job  marital          education  default housing loan  \\\n",
       "0   29       admin.  married  university.degree       no      no   no   \n",
       "1   29   technician   single  university.degree       no      no   no   \n",
       "2   45  blue-collar  married           basic.6y  unknown     yes   no   \n",
       "3   34     services  married  university.degree       no      no   no   \n",
       "4   32       admin.   single        high.school       no      no   no   \n",
       "\n",
       "     contact month day_of_week  duration  campaign  pdays  previous  \\\n",
       "0   cellular   dec         mon        77         3    999         1   \n",
       "1  telephone   may         fri        12         4    999         0   \n",
       "2  telephone   may         thu       277         2    999         0   \n",
       "3   cellular   may         thu        70         1    999         1   \n",
       "4   cellular   may         fri      1181         9    999         0   \n",
       "\n",
       "      poutcome  emp.var.rate  cons.price.idx  cons.conf.idx  euribor3m  \\\n",
       "0      failure          -3.0          92.713          -33.0      0.709   \n",
       "1  nonexistent          -1.8          92.893          -46.2      1.250   \n",
       "2  nonexistent           1.1          93.994          -36.4      4.860   \n",
       "3      failure          -1.8          92.893          -46.2      1.327   \n",
       "4  nonexistent          -1.8          92.893          -46.2      1.250   \n",
       "\n",
       "   nr.employed  \n",
       "0       5023.5  \n",
       "1       5099.1  \n",
       "2       5191.0  \n",
       "3       5099.1  \n",
       "4       5099.1  "
      ]
     },
     "execution_count": 16,
     "metadata": {},
     "output_type": "execute_result"
    }
   ],
   "source": [
    "bank_train.drop(\"y\", axis=1).head()"
   ]
  },
  {
   "cell_type": "code",
   "execution_count": 4,
   "metadata": {
    "ExecuteTime": {
     "end_time": "2022-07-23T13:58:29.423635Z",
     "start_time": "2022-07-23T13:58:29.027606Z"
    }
   },
   "outputs": [
    {
     "name": "stdout",
     "output_type": "stream",
     "text": [
      "<class 'pandas.core.frame.DataFrame'>\n",
      "RangeIndex: 28831 entries, 0 to 28830\n",
      "Data columns (total 21 columns):\n",
      " #   Column          Non-Null Count  Dtype  \n",
      "---  ------          --------------  -----  \n",
      " 0   age             28831 non-null  int64  \n",
      " 1   job             28831 non-null  object \n",
      " 2   marital         28831 non-null  object \n",
      " 3   education       28831 non-null  object \n",
      " 4   default         28831 non-null  object \n",
      " 5   housing         28831 non-null  object \n",
      " 6   loan            28831 non-null  object \n",
      " 7   contact         28831 non-null  object \n",
      " 8   month           28831 non-null  object \n",
      " 9   day_of_week     28831 non-null  object \n",
      " 10  duration        28831 non-null  int64  \n",
      " 11  campaign        28831 non-null  int64  \n",
      " 12  pdays           28831 non-null  int64  \n",
      " 13  previous        28831 non-null  int64  \n",
      " 14  poutcome        28831 non-null  object \n",
      " 15  emp.var.rate    28831 non-null  float64\n",
      " 16  cons.price.idx  28831 non-null  float64\n",
      " 17  cons.conf.idx   28831 non-null  float64\n",
      " 18  euribor3m       28831 non-null  float64\n",
      " 19  nr.employed     28831 non-null  float64\n",
      " 20  y               28831 non-null  object \n",
      "dtypes: float64(5), int64(5), object(11)\n",
      "memory usage: 4.6+ MB\n"
     ]
    }
   ],
   "source": [
    "bank_train.info()"
   ]
  },
  {
   "cell_type": "markdown",
   "metadata": {},
   "source": [
    "## Variáveis Numéricas"
   ]
  },
  {
   "cell_type": "code",
   "execution_count": 5,
   "metadata": {
    "ExecuteTime": {
     "end_time": "2022-07-23T13:58:29.517634Z",
     "start_time": "2022-07-23T13:58:29.435601Z"
    }
   },
   "outputs": [
    {
     "data": {
      "text/html": [
       "<div>\n",
       "<style scoped>\n",
       "    .dataframe tbody tr th:only-of-type {\n",
       "        vertical-align: middle;\n",
       "    }\n",
       "\n",
       "    .dataframe tbody tr th {\n",
       "        vertical-align: top;\n",
       "    }\n",
       "\n",
       "    .dataframe thead th {\n",
       "        text-align: right;\n",
       "    }\n",
       "</style>\n",
       "<table border=\"1\" class=\"dataframe\">\n",
       "  <thead>\n",
       "    <tr style=\"text-align: right;\">\n",
       "      <th></th>\n",
       "      <th>age</th>\n",
       "      <th>duration</th>\n",
       "      <th>campaign</th>\n",
       "      <th>pdays</th>\n",
       "      <th>previous</th>\n",
       "      <th>emp.var.rate</th>\n",
       "      <th>cons.price.idx</th>\n",
       "      <th>cons.conf.idx</th>\n",
       "      <th>euribor3m</th>\n",
       "      <th>nr.employed</th>\n",
       "    </tr>\n",
       "  </thead>\n",
       "  <tbody>\n",
       "    <tr>\n",
       "      <th>count</th>\n",
       "      <td>28831.000000</td>\n",
       "      <td>28831.000000</td>\n",
       "      <td>28831.000000</td>\n",
       "      <td>28831.000000</td>\n",
       "      <td>28831.000000</td>\n",
       "      <td>28831.000000</td>\n",
       "      <td>28831.000000</td>\n",
       "      <td>28831.000000</td>\n",
       "      <td>28831.000000</td>\n",
       "      <td>28831.000000</td>\n",
       "    </tr>\n",
       "    <tr>\n",
       "      <th>mean</th>\n",
       "      <td>40.011203</td>\n",
       "      <td>257.875134</td>\n",
       "      <td>2.575769</td>\n",
       "      <td>963.215844</td>\n",
       "      <td>0.172592</td>\n",
       "      <td>0.083202</td>\n",
       "      <td>93.577264</td>\n",
       "      <td>-40.515091</td>\n",
       "      <td>3.621599</td>\n",
       "      <td>5167.011880</td>\n",
       "    </tr>\n",
       "    <tr>\n",
       "      <th>std</th>\n",
       "      <td>10.450128</td>\n",
       "      <td>260.212911</td>\n",
       "      <td>2.752303</td>\n",
       "      <td>185.077567</td>\n",
       "      <td>0.494338</td>\n",
       "      <td>1.570978</td>\n",
       "      <td>0.579694</td>\n",
       "      <td>4.634864</td>\n",
       "      <td>1.735202</td>\n",
       "      <td>72.542598</td>\n",
       "    </tr>\n",
       "    <tr>\n",
       "      <th>min</th>\n",
       "      <td>17.000000</td>\n",
       "      <td>0.000000</td>\n",
       "      <td>1.000000</td>\n",
       "      <td>0.000000</td>\n",
       "      <td>0.000000</td>\n",
       "      <td>-3.400000</td>\n",
       "      <td>92.201000</td>\n",
       "      <td>-50.800000</td>\n",
       "      <td>0.634000</td>\n",
       "      <td>4963.600000</td>\n",
       "    </tr>\n",
       "    <tr>\n",
       "      <th>25%</th>\n",
       "      <td>32.000000</td>\n",
       "      <td>102.000000</td>\n",
       "      <td>1.000000</td>\n",
       "      <td>999.000000</td>\n",
       "      <td>0.000000</td>\n",
       "      <td>-1.800000</td>\n",
       "      <td>93.075000</td>\n",
       "      <td>-42.700000</td>\n",
       "      <td>1.344000</td>\n",
       "      <td>5099.100000</td>\n",
       "    </tr>\n",
       "    <tr>\n",
       "      <th>50%</th>\n",
       "      <td>38.000000</td>\n",
       "      <td>180.000000</td>\n",
       "      <td>2.000000</td>\n",
       "      <td>999.000000</td>\n",
       "      <td>0.000000</td>\n",
       "      <td>1.100000</td>\n",
       "      <td>93.749000</td>\n",
       "      <td>-41.800000</td>\n",
       "      <td>4.857000</td>\n",
       "      <td>5191.000000</td>\n",
       "    </tr>\n",
       "    <tr>\n",
       "      <th>75%</th>\n",
       "      <td>47.000000</td>\n",
       "      <td>318.000000</td>\n",
       "      <td>3.000000</td>\n",
       "      <td>999.000000</td>\n",
       "      <td>0.000000</td>\n",
       "      <td>1.400000</td>\n",
       "      <td>93.994000</td>\n",
       "      <td>-36.400000</td>\n",
       "      <td>4.961000</td>\n",
       "      <td>5228.100000</td>\n",
       "    </tr>\n",
       "    <tr>\n",
       "      <th>max</th>\n",
       "      <td>98.000000</td>\n",
       "      <td>4918.000000</td>\n",
       "      <td>43.000000</td>\n",
       "      <td>999.000000</td>\n",
       "      <td>7.000000</td>\n",
       "      <td>1.400000</td>\n",
       "      <td>94.767000</td>\n",
       "      <td>-26.900000</td>\n",
       "      <td>5.045000</td>\n",
       "      <td>5228.100000</td>\n",
       "    </tr>\n",
       "  </tbody>\n",
       "</table>\n",
       "</div>"
      ],
      "text/plain": [
       "                age      duration      campaign         pdays      previous  \\\n",
       "count  28831.000000  28831.000000  28831.000000  28831.000000  28831.000000   \n",
       "mean      40.011203    257.875134      2.575769    963.215844      0.172592   \n",
       "std       10.450128    260.212911      2.752303    185.077567      0.494338   \n",
       "min       17.000000      0.000000      1.000000      0.000000      0.000000   \n",
       "25%       32.000000    102.000000      1.000000    999.000000      0.000000   \n",
       "50%       38.000000    180.000000      2.000000    999.000000      0.000000   \n",
       "75%       47.000000    318.000000      3.000000    999.000000      0.000000   \n",
       "max       98.000000   4918.000000     43.000000    999.000000      7.000000   \n",
       "\n",
       "       emp.var.rate  cons.price.idx  cons.conf.idx     euribor3m   nr.employed  \n",
       "count  28831.000000    28831.000000   28831.000000  28831.000000  28831.000000  \n",
       "mean       0.083202       93.577264     -40.515091      3.621599   5167.011880  \n",
       "std        1.570978        0.579694       4.634864      1.735202     72.542598  \n",
       "min       -3.400000       92.201000     -50.800000      0.634000   4963.600000  \n",
       "25%       -1.800000       93.075000     -42.700000      1.344000   5099.100000  \n",
       "50%        1.100000       93.749000     -41.800000      4.857000   5191.000000  \n",
       "75%        1.400000       93.994000     -36.400000      4.961000   5228.100000  \n",
       "max        1.400000       94.767000     -26.900000      5.045000   5228.100000  "
      ]
     },
     "execution_count": 5,
     "metadata": {},
     "output_type": "execute_result"
    }
   ],
   "source": [
    "bank_train.describe()"
   ]
  },
  {
   "cell_type": "code",
   "execution_count": 6,
   "metadata": {
    "ExecuteTime": {
     "end_time": "2022-07-23T13:58:29.549346Z",
     "start_time": "2022-07-23T13:58:29.525611Z"
    }
   },
   "outputs": [
    {
     "data": {
      "text/plain": [
       "no     0.887239\n",
       "yes    0.112761\n",
       "Name: y, dtype: float64"
      ]
     },
     "execution_count": 6,
     "metadata": {},
     "output_type": "execute_result"
    }
   ],
   "source": [
    "bank_train[\"y\"].value_counts(normalize=True)"
   ]
  },
  {
   "cell_type": "code",
   "execution_count": 7,
   "metadata": {
    "ExecuteTime": {
     "end_time": "2022-07-23T13:58:29.705226Z",
     "start_time": "2022-07-23T13:58:29.552337Z"
    }
   },
   "outputs": [
    {
     "data": {
      "text/html": [
       "<div>\n",
       "<style scoped>\n",
       "    .dataframe tbody tr th:only-of-type {\n",
       "        vertical-align: middle;\n",
       "    }\n",
       "\n",
       "    .dataframe tbody tr th {\n",
       "        vertical-align: top;\n",
       "    }\n",
       "\n",
       "    .dataframe thead th {\n",
       "        text-align: right;\n",
       "    }\n",
       "</style>\n",
       "<table border=\"1\" class=\"dataframe\">\n",
       "  <thead>\n",
       "    <tr style=\"text-align: right;\">\n",
       "      <th></th>\n",
       "      <th>age</th>\n",
       "      <th>duration</th>\n",
       "      <th>campaign</th>\n",
       "      <th>pdays</th>\n",
       "      <th>previous</th>\n",
       "      <th>emp.var.rate</th>\n",
       "      <th>cons.price.idx</th>\n",
       "      <th>cons.conf.idx</th>\n",
       "      <th>euribor3m</th>\n",
       "      <th>nr.employed</th>\n",
       "    </tr>\n",
       "    <tr>\n",
       "      <th>y</th>\n",
       "      <th></th>\n",
       "      <th></th>\n",
       "      <th></th>\n",
       "      <th></th>\n",
       "      <th></th>\n",
       "      <th></th>\n",
       "      <th></th>\n",
       "      <th></th>\n",
       "      <th></th>\n",
       "      <th></th>\n",
       "    </tr>\n",
       "  </thead>\n",
       "  <tbody>\n",
       "    <tr>\n",
       "      <th>no</th>\n",
       "      <td>39.927013</td>\n",
       "      <td>220.848006</td>\n",
       "      <td>2.645231</td>\n",
       "      <td>984.756919</td>\n",
       "      <td>0.132643</td>\n",
       "      <td>0.251427</td>\n",
       "      <td>93.605261</td>\n",
       "      <td>-40.601009</td>\n",
       "      <td>3.812835</td>\n",
       "      <td>5176.208432</td>\n",
       "    </tr>\n",
       "    <tr>\n",
       "      <th>yes</th>\n",
       "      <td>40.673639</td>\n",
       "      <td>549.217472</td>\n",
       "      <td>2.029222</td>\n",
       "      <td>793.723162</td>\n",
       "      <td>0.486927</td>\n",
       "      <td>-1.240449</td>\n",
       "      <td>93.356977</td>\n",
       "      <td>-39.839065</td>\n",
       "      <td>2.116890</td>\n",
       "      <td>5094.650200</td>\n",
       "    </tr>\n",
       "  </tbody>\n",
       "</table>\n",
       "</div>"
      ],
      "text/plain": [
       "           age    duration  campaign       pdays  previous  emp.var.rate  \\\n",
       "y                                                                          \n",
       "no   39.927013  220.848006  2.645231  984.756919  0.132643      0.251427   \n",
       "yes  40.673639  549.217472  2.029222  793.723162  0.486927     -1.240449   \n",
       "\n",
       "     cons.price.idx  cons.conf.idx  euribor3m  nr.employed  \n",
       "y                                                           \n",
       "no        93.605261     -40.601009   3.812835  5176.208432  \n",
       "yes       93.356977     -39.839065   2.116890  5094.650200  "
      ]
     },
     "execution_count": 7,
     "metadata": {},
     "output_type": "execute_result"
    }
   ],
   "source": [
    "bank_train.groupby(\"y\").mean()"
   ]
  },
  {
   "cell_type": "code",
   "execution_count": 8,
   "metadata": {
    "ExecuteTime": {
     "end_time": "2022-07-23T13:58:29.892851Z",
     "start_time": "2022-07-23T13:58:29.712154Z"
    }
   },
   "outputs": [],
   "source": [
    "def plot_qvars(x, data=\"../data/interim/bank_train.csv\", step=4, domain=(0, 100)):\n",
    "    hist = alt.Chart(data).mark_bar().encode(\n",
    "        x=alt.X(x, bin=alt.Bin(step=step), scale=alt.Scale(domain=domain)),\n",
    "        y=\"count()\"\n",
    "    )\n",
    "    \n",
    "    error_bar = alt.Chart(data).mark_errorbar(extent=\"stdev\").encode(\n",
    "        x=alt.X(x, scale=alt.Scale(domain=domain)),\n",
    "        y=alt.Y(\"y:N\")\n",
    "    )\n",
    "    \n",
    "    points = alt.Chart(data).mark_point(filled=True).encode(\n",
    "        x=alt.X(x, aggregate=\"mean\", scale=alt.Scale(domain=domain)),\n",
    "        y=alt.Y(\"y:N\")\n",
    "    )\n",
    "    \n",
    "    return hist & (error_bar + points)"
   ]
  },
  {
   "cell_type": "code",
   "execution_count": 9,
   "metadata": {
    "ExecuteTime": {
     "end_time": "2022-07-23T13:58:30.123950Z",
     "start_time": "2022-07-23T13:58:29.902734Z"
    }
   },
   "outputs": [
    {
     "data": {
      "text/html": [
       "\n",
       "<div id=\"altair-viz-0e119463f0424314a20e2a0940627129\"></div>\n",
       "<script type=\"text/javascript\">\n",
       "  var VEGA_DEBUG = (typeof VEGA_DEBUG == \"undefined\") ? {} : VEGA_DEBUG;\n",
       "  (function(spec, embedOpt){\n",
       "    let outputDiv = document.currentScript.previousElementSibling;\n",
       "    if (outputDiv.id !== \"altair-viz-0e119463f0424314a20e2a0940627129\") {\n",
       "      outputDiv = document.getElementById(\"altair-viz-0e119463f0424314a20e2a0940627129\");\n",
       "    }\n",
       "    const paths = {\n",
       "      \"vega\": \"https://cdn.jsdelivr.net/npm//vega@5?noext\",\n",
       "      \"vega-lib\": \"https://cdn.jsdelivr.net/npm//vega-lib?noext\",\n",
       "      \"vega-lite\": \"https://cdn.jsdelivr.net/npm//vega-lite@4.17.0?noext\",\n",
       "      \"vega-embed\": \"https://cdn.jsdelivr.net/npm//vega-embed@6?noext\",\n",
       "    };\n",
       "\n",
       "    function maybeLoadScript(lib, version) {\n",
       "      var key = `${lib.replace(\"-\", \"\")}_version`;\n",
       "      return (VEGA_DEBUG[key] == version) ?\n",
       "        Promise.resolve(paths[lib]) :\n",
       "        new Promise(function(resolve, reject) {\n",
       "          var s = document.createElement('script');\n",
       "          document.getElementsByTagName(\"head\")[0].appendChild(s);\n",
       "          s.async = true;\n",
       "          s.onload = () => {\n",
       "            VEGA_DEBUG[key] = version;\n",
       "            return resolve(paths[lib]);\n",
       "          };\n",
       "          s.onerror = () => reject(`Error loading script: ${paths[lib]}`);\n",
       "          s.src = paths[lib];\n",
       "        });\n",
       "    }\n",
       "\n",
       "    function showError(err) {\n",
       "      outputDiv.innerHTML = `<div class=\"error\" style=\"color:red;\">${err}</div>`;\n",
       "      throw err;\n",
       "    }\n",
       "\n",
       "    function displayChart(vegaEmbed) {\n",
       "      vegaEmbed(outputDiv, spec, embedOpt)\n",
       "        .catch(err => showError(`Javascript Error: ${err.message}<br>This usually means there's a typo in your chart specification. See the javascript console for the full traceback.`));\n",
       "    }\n",
       "\n",
       "    if(typeof define === \"function\" && define.amd) {\n",
       "      requirejs.config({paths});\n",
       "      require([\"vega-embed\"], displayChart, err => showError(`Error loading script: ${err.message}`));\n",
       "    } else {\n",
       "      maybeLoadScript(\"vega\", \"5\")\n",
       "        .then(() => maybeLoadScript(\"vega-lite\", \"4.17.0\"))\n",
       "        .then(() => maybeLoadScript(\"vega-embed\", \"6\"))\n",
       "        .catch(showError)\n",
       "        .then(() => displayChart(vegaEmbed));\n",
       "    }\n",
       "  })({\"config\": {\"view\": {\"continuousWidth\": 400, \"continuousHeight\": 300}}, \"hconcat\": [{\"vconcat\": [{\"mark\": \"bar\", \"encoding\": {\"x\": {\"bin\": {\"step\": 4}, \"field\": \"age\", \"scale\": {\"domain\": [0, 100]}, \"type\": \"quantitative\"}, \"y\": {\"aggregate\": \"count\", \"type\": \"quantitative\"}}}, {\"layer\": [{\"mark\": {\"type\": \"errorbar\", \"extent\": \"stdev\"}, \"encoding\": {\"x\": {\"field\": \"age\", \"scale\": {\"domain\": [0, 100]}, \"type\": \"quantitative\"}, \"y\": {\"field\": \"y\", \"type\": \"nominal\"}}}, {\"mark\": {\"type\": \"point\", \"filled\": true}, \"encoding\": {\"x\": {\"aggregate\": \"mean\", \"field\": \"age\", \"scale\": {\"domain\": [0, 100]}, \"type\": \"quantitative\"}, \"y\": {\"field\": \"y\", \"type\": \"nominal\"}}}]}]}, {\"vconcat\": [{\"mark\": \"bar\", \"encoding\": {\"x\": {\"bin\": {\"step\": 100}, \"field\": \"duration\", \"scale\": {\"domain\": [0, 4918]}, \"type\": \"quantitative\"}, \"y\": {\"aggregate\": \"count\", \"type\": \"quantitative\"}}}, {\"layer\": [{\"mark\": {\"type\": \"errorbar\", \"extent\": \"stdev\"}, \"encoding\": {\"x\": {\"field\": \"duration\", \"scale\": {\"domain\": [0, 4918]}, \"type\": \"quantitative\"}, \"y\": {\"field\": \"y\", \"type\": \"nominal\"}}}, {\"mark\": {\"type\": \"point\", \"filled\": true}, \"encoding\": {\"x\": {\"aggregate\": \"mean\", \"field\": \"duration\", \"scale\": {\"domain\": [0, 4918]}, \"type\": \"quantitative\"}, \"y\": {\"field\": \"y\", \"type\": \"nominal\"}}}]}]}], \"data\": {\"url\": \"../data/interim/bank_train.csv\"}, \"$schema\": \"https://vega.github.io/schema/vega-lite/v4.17.0.json\"}, {\"mode\": \"vega-lite\"});\n",
       "</script>"
      ],
      "text/plain": [
       "alt.HConcatChart(...)"
      ]
     },
     "execution_count": 9,
     "metadata": {},
     "output_type": "execute_result"
    }
   ],
   "source": [
    "plot_qvars(\"age:Q\", step=4, domain=(0, 100)) | plot_qvars(\"duration:Q\", step=100, domain=(0, 4918))"
   ]
  },
  {
   "cell_type": "code",
   "execution_count": 10,
   "metadata": {
    "ExecuteTime": {
     "end_time": "2022-07-23T13:58:30.482348Z",
     "start_time": "2022-07-23T13:58:30.139237Z"
    }
   },
   "outputs": [
    {
     "data": {
      "text/html": [
       "\n",
       "<div id=\"altair-viz-4baaafa898e94725ab1ef2d6f541ec4b\"></div>\n",
       "<script type=\"text/javascript\">\n",
       "  var VEGA_DEBUG = (typeof VEGA_DEBUG == \"undefined\") ? {} : VEGA_DEBUG;\n",
       "  (function(spec, embedOpt){\n",
       "    let outputDiv = document.currentScript.previousElementSibling;\n",
       "    if (outputDiv.id !== \"altair-viz-4baaafa898e94725ab1ef2d6f541ec4b\") {\n",
       "      outputDiv = document.getElementById(\"altair-viz-4baaafa898e94725ab1ef2d6f541ec4b\");\n",
       "    }\n",
       "    const paths = {\n",
       "      \"vega\": \"https://cdn.jsdelivr.net/npm//vega@5?noext\",\n",
       "      \"vega-lib\": \"https://cdn.jsdelivr.net/npm//vega-lib?noext\",\n",
       "      \"vega-lite\": \"https://cdn.jsdelivr.net/npm//vega-lite@4.17.0?noext\",\n",
       "      \"vega-embed\": \"https://cdn.jsdelivr.net/npm//vega-embed@6?noext\",\n",
       "    };\n",
       "\n",
       "    function maybeLoadScript(lib, version) {\n",
       "      var key = `${lib.replace(\"-\", \"\")}_version`;\n",
       "      return (VEGA_DEBUG[key] == version) ?\n",
       "        Promise.resolve(paths[lib]) :\n",
       "        new Promise(function(resolve, reject) {\n",
       "          var s = document.createElement('script');\n",
       "          document.getElementsByTagName(\"head\")[0].appendChild(s);\n",
       "          s.async = true;\n",
       "          s.onload = () => {\n",
       "            VEGA_DEBUG[key] = version;\n",
       "            return resolve(paths[lib]);\n",
       "          };\n",
       "          s.onerror = () => reject(`Error loading script: ${paths[lib]}`);\n",
       "          s.src = paths[lib];\n",
       "        });\n",
       "    }\n",
       "\n",
       "    function showError(err) {\n",
       "      outputDiv.innerHTML = `<div class=\"error\" style=\"color:red;\">${err}</div>`;\n",
       "      throw err;\n",
       "    }\n",
       "\n",
       "    function displayChart(vegaEmbed) {\n",
       "      vegaEmbed(outputDiv, spec, embedOpt)\n",
       "        .catch(err => showError(`Javascript Error: ${err.message}<br>This usually means there's a typo in your chart specification. See the javascript console for the full traceback.`));\n",
       "    }\n",
       "\n",
       "    if(typeof define === \"function\" && define.amd) {\n",
       "      requirejs.config({paths});\n",
       "      require([\"vega-embed\"], displayChart, err => showError(`Error loading script: ${err.message}`));\n",
       "    } else {\n",
       "      maybeLoadScript(\"vega\", \"5\")\n",
       "        .then(() => maybeLoadScript(\"vega-lite\", \"4.17.0\"))\n",
       "        .then(() => maybeLoadScript(\"vega-embed\", \"6\"))\n",
       "        .catch(showError)\n",
       "        .then(() => displayChart(vegaEmbed));\n",
       "    }\n",
       "  })({\"config\": {\"view\": {\"continuousWidth\": 400, \"continuousHeight\": 300}}, \"hconcat\": [{\"vconcat\": [{\"mark\": \"bar\", \"encoding\": {\"x\": {\"bin\": {\"step\": 1}, \"field\": \"campaign\", \"scale\": {\"domain\": [1, 43]}, \"type\": \"quantitative\"}, \"y\": {\"aggregate\": \"count\", \"type\": \"quantitative\"}}}, {\"layer\": [{\"mark\": {\"type\": \"errorbar\", \"extent\": \"stdev\"}, \"encoding\": {\"x\": {\"field\": \"campaign\", \"scale\": {\"domain\": [1, 43]}, \"type\": \"quantitative\"}, \"y\": {\"field\": \"y\", \"type\": \"nominal\"}}}, {\"mark\": {\"type\": \"point\", \"filled\": true}, \"encoding\": {\"x\": {\"aggregate\": \"mean\", \"field\": \"campaign\", \"scale\": {\"domain\": [1, 43]}, \"type\": \"quantitative\"}, \"y\": {\"field\": \"y\", \"type\": \"nominal\"}}}]}]}, {\"vconcat\": [{\"mark\": \"bar\", \"encoding\": {\"x\": {\"bin\": {\"step\": 100}, \"field\": \"pdays\", \"scale\": {\"domain\": [0, 999]}, \"type\": \"quantitative\"}, \"y\": {\"aggregate\": \"count\", \"type\": \"quantitative\"}}}, {\"layer\": [{\"mark\": {\"type\": \"errorbar\", \"extent\": \"stdev\"}, \"encoding\": {\"x\": {\"field\": \"pdays\", \"scale\": {\"domain\": [0, 999]}, \"type\": \"quantitative\"}, \"y\": {\"field\": \"y\", \"type\": \"nominal\"}}}, {\"mark\": {\"type\": \"point\", \"filled\": true}, \"encoding\": {\"x\": {\"aggregate\": \"mean\", \"field\": \"pdays\", \"scale\": {\"domain\": [0, 999]}, \"type\": \"quantitative\"}, \"y\": {\"field\": \"y\", \"type\": \"nominal\"}}}]}]}], \"data\": {\"url\": \"../data/interim/bank_train.csv\"}, \"$schema\": \"https://vega.github.io/schema/vega-lite/v4.17.0.json\"}, {\"mode\": \"vega-lite\"});\n",
       "</script>"
      ],
      "text/plain": [
       "alt.HConcatChart(...)"
      ]
     },
     "execution_count": 10,
     "metadata": {},
     "output_type": "execute_result"
    }
   ],
   "source": [
    "plot_qvars(\"campaign:Q\", step=1, domain=(1, 43)) | plot_qvars(\"pdays:Q\", step=100, domain=(0, 999)) "
   ]
  },
  {
   "cell_type": "code",
   "execution_count": 11,
   "metadata": {
    "ExecuteTime": {
     "end_time": "2022-07-23T13:58:31.289696Z",
     "start_time": "2022-07-23T13:58:30.486339Z"
    }
   },
   "outputs": [
    {
     "data": {
      "text/html": [
       "\n",
       "<div id=\"altair-viz-bcd081c51df6426baccf9ddcc432f6fd\"></div>\n",
       "<script type=\"text/javascript\">\n",
       "  var VEGA_DEBUG = (typeof VEGA_DEBUG == \"undefined\") ? {} : VEGA_DEBUG;\n",
       "  (function(spec, embedOpt){\n",
       "    let outputDiv = document.currentScript.previousElementSibling;\n",
       "    if (outputDiv.id !== \"altair-viz-bcd081c51df6426baccf9ddcc432f6fd\") {\n",
       "      outputDiv = document.getElementById(\"altair-viz-bcd081c51df6426baccf9ddcc432f6fd\");\n",
       "    }\n",
       "    const paths = {\n",
       "      \"vega\": \"https://cdn.jsdelivr.net/npm//vega@5?noext\",\n",
       "      \"vega-lib\": \"https://cdn.jsdelivr.net/npm//vega-lib?noext\",\n",
       "      \"vega-lite\": \"https://cdn.jsdelivr.net/npm//vega-lite@4.17.0?noext\",\n",
       "      \"vega-embed\": \"https://cdn.jsdelivr.net/npm//vega-embed@6?noext\",\n",
       "    };\n",
       "\n",
       "    function maybeLoadScript(lib, version) {\n",
       "      var key = `${lib.replace(\"-\", \"\")}_version`;\n",
       "      return (VEGA_DEBUG[key] == version) ?\n",
       "        Promise.resolve(paths[lib]) :\n",
       "        new Promise(function(resolve, reject) {\n",
       "          var s = document.createElement('script');\n",
       "          document.getElementsByTagName(\"head\")[0].appendChild(s);\n",
       "          s.async = true;\n",
       "          s.onload = () => {\n",
       "            VEGA_DEBUG[key] = version;\n",
       "            return resolve(paths[lib]);\n",
       "          };\n",
       "          s.onerror = () => reject(`Error loading script: ${paths[lib]}`);\n",
       "          s.src = paths[lib];\n",
       "        });\n",
       "    }\n",
       "\n",
       "    function showError(err) {\n",
       "      outputDiv.innerHTML = `<div class=\"error\" style=\"color:red;\">${err}</div>`;\n",
       "      throw err;\n",
       "    }\n",
       "\n",
       "    function displayChart(vegaEmbed) {\n",
       "      vegaEmbed(outputDiv, spec, embedOpt)\n",
       "        .catch(err => showError(`Javascript Error: ${err.message}<br>This usually means there's a typo in your chart specification. See the javascript console for the full traceback.`));\n",
       "    }\n",
       "\n",
       "    if(typeof define === \"function\" && define.amd) {\n",
       "      requirejs.config({paths});\n",
       "      require([\"vega-embed\"], displayChart, err => showError(`Error loading script: ${err.message}`));\n",
       "    } else {\n",
       "      maybeLoadScript(\"vega\", \"5\")\n",
       "        .then(() => maybeLoadScript(\"vega-lite\", \"4.17.0\"))\n",
       "        .then(() => maybeLoadScript(\"vega-embed\", \"6\"))\n",
       "        .catch(showError)\n",
       "        .then(() => displayChart(vegaEmbed));\n",
       "    }\n",
       "  })({\"config\": {\"view\": {\"continuousWidth\": 400, \"continuousHeight\": 300}}, \"hconcat\": [{\"vconcat\": [{\"mark\": \"bar\", \"encoding\": {\"x\": {\"bin\": {\"step\": 1.5}, \"field\": \"previous\", \"scale\": {\"domain\": [0, 7]}, \"type\": \"quantitative\"}, \"y\": {\"aggregate\": \"count\", \"type\": \"quantitative\"}}}, {\"layer\": [{\"mark\": {\"type\": \"errorbar\", \"extent\": \"stdev\"}, \"encoding\": {\"x\": {\"field\": \"previous\", \"scale\": {\"domain\": [0, 7]}, \"type\": \"quantitative\"}, \"y\": {\"field\": \"y\", \"type\": \"nominal\"}}}, {\"mark\": {\"type\": \"point\", \"filled\": true}, \"encoding\": {\"x\": {\"aggregate\": \"mean\", \"field\": \"previous\", \"scale\": {\"domain\": [0, 7]}, \"type\": \"quantitative\"}, \"y\": {\"field\": \"y\", \"type\": \"nominal\"}}}]}]}, {\"vconcat\": [{\"mark\": \"bar\", \"encoding\": {\"x\": {\"bin\": {\"step\": 1.5}, \"field\": \"emp\\\\.var\\\\.rate\", \"scale\": {\"domain\": [-5, 2]}, \"type\": \"quantitative\"}, \"y\": {\"aggregate\": \"count\", \"type\": \"quantitative\"}}}, {\"layer\": [{\"mark\": {\"type\": \"errorbar\", \"extent\": \"stdev\"}, \"encoding\": {\"x\": {\"field\": \"emp\\\\.var\\\\.rate\", \"scale\": {\"domain\": [-5, 2]}, \"type\": \"quantitative\"}, \"y\": {\"field\": \"y\", \"type\": \"nominal\"}}}, {\"mark\": {\"type\": \"point\", \"filled\": true}, \"encoding\": {\"x\": {\"aggregate\": \"mean\", \"field\": \"emp\\\\.var\\\\.rate\", \"scale\": {\"domain\": [-5, 2]}, \"type\": \"quantitative\"}, \"y\": {\"field\": \"y\", \"type\": \"nominal\"}}}]}]}], \"data\": {\"url\": \"../data/interim/bank_train.csv\"}, \"$schema\": \"https://vega.github.io/schema/vega-lite/v4.17.0.json\"}, {\"mode\": \"vega-lite\"});\n",
       "</script>"
      ],
      "text/plain": [
       "alt.HConcatChart(...)"
      ]
     },
     "execution_count": 11,
     "metadata": {},
     "output_type": "execute_result"
    }
   ],
   "source": [
    "plot_qvars(\"previous:Q\", step=1.5, domain=(0, 7)) | plot_qvars(\"emp\\\\.var\\\\.rate:Q\", step=1.5, domain=(-5, 2))"
   ]
  },
  {
   "cell_type": "code",
   "execution_count": 12,
   "metadata": {
    "ExecuteTime": {
     "end_time": "2022-07-23T13:58:31.477829Z",
     "start_time": "2022-07-23T13:58:31.298672Z"
    }
   },
   "outputs": [
    {
     "data": {
      "text/html": [
       "\n",
       "<div id=\"altair-viz-3e9e952627384936b238683284b4867d\"></div>\n",
       "<script type=\"text/javascript\">\n",
       "  var VEGA_DEBUG = (typeof VEGA_DEBUG == \"undefined\") ? {} : VEGA_DEBUG;\n",
       "  (function(spec, embedOpt){\n",
       "    let outputDiv = document.currentScript.previousElementSibling;\n",
       "    if (outputDiv.id !== \"altair-viz-3e9e952627384936b238683284b4867d\") {\n",
       "      outputDiv = document.getElementById(\"altair-viz-3e9e952627384936b238683284b4867d\");\n",
       "    }\n",
       "    const paths = {\n",
       "      \"vega\": \"https://cdn.jsdelivr.net/npm//vega@5?noext\",\n",
       "      \"vega-lib\": \"https://cdn.jsdelivr.net/npm//vega-lib?noext\",\n",
       "      \"vega-lite\": \"https://cdn.jsdelivr.net/npm//vega-lite@4.17.0?noext\",\n",
       "      \"vega-embed\": \"https://cdn.jsdelivr.net/npm//vega-embed@6?noext\",\n",
       "    };\n",
       "\n",
       "    function maybeLoadScript(lib, version) {\n",
       "      var key = `${lib.replace(\"-\", \"\")}_version`;\n",
       "      return (VEGA_DEBUG[key] == version) ?\n",
       "        Promise.resolve(paths[lib]) :\n",
       "        new Promise(function(resolve, reject) {\n",
       "          var s = document.createElement('script');\n",
       "          document.getElementsByTagName(\"head\")[0].appendChild(s);\n",
       "          s.async = true;\n",
       "          s.onload = () => {\n",
       "            VEGA_DEBUG[key] = version;\n",
       "            return resolve(paths[lib]);\n",
       "          };\n",
       "          s.onerror = () => reject(`Error loading script: ${paths[lib]}`);\n",
       "          s.src = paths[lib];\n",
       "        });\n",
       "    }\n",
       "\n",
       "    function showError(err) {\n",
       "      outputDiv.innerHTML = `<div class=\"error\" style=\"color:red;\">${err}</div>`;\n",
       "      throw err;\n",
       "    }\n",
       "\n",
       "    function displayChart(vegaEmbed) {\n",
       "      vegaEmbed(outputDiv, spec, embedOpt)\n",
       "        .catch(err => showError(`Javascript Error: ${err.message}<br>This usually means there's a typo in your chart specification. See the javascript console for the full traceback.`));\n",
       "    }\n",
       "\n",
       "    if(typeof define === \"function\" && define.amd) {\n",
       "      requirejs.config({paths});\n",
       "      require([\"vega-embed\"], displayChart, err => showError(`Error loading script: ${err.message}`));\n",
       "    } else {\n",
       "      maybeLoadScript(\"vega\", \"5\")\n",
       "        .then(() => maybeLoadScript(\"vega-lite\", \"4.17.0\"))\n",
       "        .then(() => maybeLoadScript(\"vega-embed\", \"6\"))\n",
       "        .catch(showError)\n",
       "        .then(() => displayChart(vegaEmbed));\n",
       "    }\n",
       "  })({\"config\": {\"view\": {\"continuousWidth\": 400, \"continuousHeight\": 300}}, \"hconcat\": [{\"vconcat\": [{\"mark\": \"bar\", \"encoding\": {\"x\": {\"bin\": {\"step\": 0.5}, \"field\": \"cons\\\\.price\\\\.idx\", \"scale\": {\"domain\": [92, 95]}, \"type\": \"quantitative\"}, \"y\": {\"aggregate\": \"count\", \"type\": \"quantitative\"}}}, {\"layer\": [{\"mark\": {\"type\": \"errorbar\", \"extent\": \"stdev\"}, \"encoding\": {\"x\": {\"field\": \"cons\\\\.price\\\\.idx\", \"scale\": {\"domain\": [92, 95]}, \"type\": \"quantitative\"}, \"y\": {\"field\": \"y\", \"type\": \"nominal\"}}}, {\"mark\": {\"type\": \"point\", \"filled\": true}, \"encoding\": {\"x\": {\"aggregate\": \"mean\", \"field\": \"cons\\\\.price\\\\.idx\", \"scale\": {\"domain\": [92, 95]}, \"type\": \"quantitative\"}, \"y\": {\"field\": \"y\", \"type\": \"nominal\"}}}]}]}, {\"vconcat\": [{\"mark\": \"bar\", \"encoding\": {\"x\": {\"bin\": {\"step\": 4}, \"field\": \"cons\\\\.conf\\\\.idx\", \"scale\": {\"domain\": [-52, -24]}, \"type\": \"quantitative\"}, \"y\": {\"aggregate\": \"count\", \"type\": \"quantitative\"}}}, {\"layer\": [{\"mark\": {\"type\": \"errorbar\", \"extent\": \"stdev\"}, \"encoding\": {\"x\": {\"field\": \"cons\\\\.conf\\\\.idx\", \"scale\": {\"domain\": [-52, -24]}, \"type\": \"quantitative\"}, \"y\": {\"field\": \"y\", \"type\": \"nominal\"}}}, {\"mark\": {\"type\": \"point\", \"filled\": true}, \"encoding\": {\"x\": {\"aggregate\": \"mean\", \"field\": \"cons\\\\.conf\\\\.idx\", \"scale\": {\"domain\": [-52, -24]}, \"type\": \"quantitative\"}, \"y\": {\"field\": \"y\", \"type\": \"nominal\"}}}]}]}], \"data\": {\"url\": \"../data/interim/bank_train.csv\"}, \"$schema\": \"https://vega.github.io/schema/vega-lite/v4.17.0.json\"}, {\"mode\": \"vega-lite\"});\n",
       "</script>"
      ],
      "text/plain": [
       "alt.HConcatChart(...)"
      ]
     },
     "execution_count": 12,
     "metadata": {},
     "output_type": "execute_result"
    }
   ],
   "source": [
    "plot_qvars(\"cons\\\\.price\\\\.idx:Q\", step=0.5, domain=(92, 95)) | plot_qvars(\"cons\\\\.conf\\\\.idx:Q\", step=4, domain=(-52, -24))"
   ]
  },
  {
   "cell_type": "code",
   "execution_count": 13,
   "metadata": {
    "ExecuteTime": {
     "end_time": "2022-07-23T13:58:31.744357Z",
     "start_time": "2022-07-23T13:58:31.481819Z"
    }
   },
   "outputs": [
    {
     "data": {
      "text/html": [
       "\n",
       "<div id=\"altair-viz-ccb8d48ac8274d3aa7fb63f1547f284d\"></div>\n",
       "<script type=\"text/javascript\">\n",
       "  var VEGA_DEBUG = (typeof VEGA_DEBUG == \"undefined\") ? {} : VEGA_DEBUG;\n",
       "  (function(spec, embedOpt){\n",
       "    let outputDiv = document.currentScript.previousElementSibling;\n",
       "    if (outputDiv.id !== \"altair-viz-ccb8d48ac8274d3aa7fb63f1547f284d\") {\n",
       "      outputDiv = document.getElementById(\"altair-viz-ccb8d48ac8274d3aa7fb63f1547f284d\");\n",
       "    }\n",
       "    const paths = {\n",
       "      \"vega\": \"https://cdn.jsdelivr.net/npm//vega@5?noext\",\n",
       "      \"vega-lib\": \"https://cdn.jsdelivr.net/npm//vega-lib?noext\",\n",
       "      \"vega-lite\": \"https://cdn.jsdelivr.net/npm//vega-lite@4.17.0?noext\",\n",
       "      \"vega-embed\": \"https://cdn.jsdelivr.net/npm//vega-embed@6?noext\",\n",
       "    };\n",
       "\n",
       "    function maybeLoadScript(lib, version) {\n",
       "      var key = `${lib.replace(\"-\", \"\")}_version`;\n",
       "      return (VEGA_DEBUG[key] == version) ?\n",
       "        Promise.resolve(paths[lib]) :\n",
       "        new Promise(function(resolve, reject) {\n",
       "          var s = document.createElement('script');\n",
       "          document.getElementsByTagName(\"head\")[0].appendChild(s);\n",
       "          s.async = true;\n",
       "          s.onload = () => {\n",
       "            VEGA_DEBUG[key] = version;\n",
       "            return resolve(paths[lib]);\n",
       "          };\n",
       "          s.onerror = () => reject(`Error loading script: ${paths[lib]}`);\n",
       "          s.src = paths[lib];\n",
       "        });\n",
       "    }\n",
       "\n",
       "    function showError(err) {\n",
       "      outputDiv.innerHTML = `<div class=\"error\" style=\"color:red;\">${err}</div>`;\n",
       "      throw err;\n",
       "    }\n",
       "\n",
       "    function displayChart(vegaEmbed) {\n",
       "      vegaEmbed(outputDiv, spec, embedOpt)\n",
       "        .catch(err => showError(`Javascript Error: ${err.message}<br>This usually means there's a typo in your chart specification. See the javascript console for the full traceback.`));\n",
       "    }\n",
       "\n",
       "    if(typeof define === \"function\" && define.amd) {\n",
       "      requirejs.config({paths});\n",
       "      require([\"vega-embed\"], displayChart, err => showError(`Error loading script: ${err.message}`));\n",
       "    } else {\n",
       "      maybeLoadScript(\"vega\", \"5\")\n",
       "        .then(() => maybeLoadScript(\"vega-lite\", \"4.17.0\"))\n",
       "        .then(() => maybeLoadScript(\"vega-embed\", \"6\"))\n",
       "        .catch(showError)\n",
       "        .then(() => displayChart(vegaEmbed));\n",
       "    }\n",
       "  })({\"config\": {\"view\": {\"continuousWidth\": 400, \"continuousHeight\": 300}}, \"hconcat\": [{\"vconcat\": [{\"mark\": \"bar\", \"encoding\": {\"x\": {\"bin\": {\"step\": 0.5}, \"field\": \"euribor3m\", \"scale\": {\"domain\": [0.5, 6]}, \"type\": \"quantitative\"}, \"y\": {\"aggregate\": \"count\", \"type\": \"quantitative\"}}}, {\"layer\": [{\"mark\": {\"type\": \"errorbar\", \"extent\": \"stdev\"}, \"encoding\": {\"x\": {\"field\": \"euribor3m\", \"scale\": {\"domain\": [0.5, 6]}, \"type\": \"quantitative\"}, \"y\": {\"field\": \"y\", \"type\": \"nominal\"}}}, {\"mark\": {\"type\": \"point\", \"filled\": true}, \"encoding\": {\"x\": {\"aggregate\": \"mean\", \"field\": \"euribor3m\", \"scale\": {\"domain\": [0.5, 6]}, \"type\": \"quantitative\"}, \"y\": {\"field\": \"y\", \"type\": \"nominal\"}}}]}]}, {\"vconcat\": [{\"mark\": \"bar\", \"encoding\": {\"x\": {\"bin\": {\"step\": 65}, \"field\": \"nr\\\\.employed\", \"scale\": {\"domain\": [4940, 5265]}, \"type\": \"quantitative\"}, \"y\": {\"aggregate\": \"count\", \"type\": \"quantitative\"}}}, {\"layer\": [{\"mark\": {\"type\": \"errorbar\", \"extent\": \"stdev\"}, \"encoding\": {\"x\": {\"field\": \"nr\\\\.employed\", \"scale\": {\"domain\": [4940, 5265]}, \"type\": \"quantitative\"}, \"y\": {\"field\": \"y\", \"type\": \"nominal\"}}}, {\"mark\": {\"type\": \"point\", \"filled\": true}, \"encoding\": {\"x\": {\"aggregate\": \"mean\", \"field\": \"nr\\\\.employed\", \"scale\": {\"domain\": [4940, 5265]}, \"type\": \"quantitative\"}, \"y\": {\"field\": \"y\", \"type\": \"nominal\"}}}]}]}], \"data\": {\"url\": \"../data/interim/bank_train.csv\"}, \"$schema\": \"https://vega.github.io/schema/vega-lite/v4.17.0.json\"}, {\"mode\": \"vega-lite\"});\n",
       "</script>"
      ],
      "text/plain": [
       "alt.HConcatChart(...)"
      ]
     },
     "execution_count": 13,
     "metadata": {},
     "output_type": "execute_result"
    }
   ],
   "source": [
    "plot_qvars(\"euribor3m:Q\", step=0.5, domain=(0.5, 6)) | plot_qvars(\"nr\\\\.employed:Q\", step=65, domain=(4940, 5265))"
   ]
  },
  {
   "cell_type": "code",
   "execution_count": 14,
   "metadata": {
    "ExecuteTime": {
     "end_time": "2022-07-23T13:58:31.998622Z",
     "start_time": "2022-07-23T13:58:31.758319Z"
    }
   },
   "outputs": [
    {
     "data": {
      "text/html": [
       "\n",
       "<div id=\"altair-viz-bdc1a370ff2e49b2bee2a598e2adb90e\"></div>\n",
       "<script type=\"text/javascript\">\n",
       "  var VEGA_DEBUG = (typeof VEGA_DEBUG == \"undefined\") ? {} : VEGA_DEBUG;\n",
       "  (function(spec, embedOpt){\n",
       "    let outputDiv = document.currentScript.previousElementSibling;\n",
       "    if (outputDiv.id !== \"altair-viz-bdc1a370ff2e49b2bee2a598e2adb90e\") {\n",
       "      outputDiv = document.getElementById(\"altair-viz-bdc1a370ff2e49b2bee2a598e2adb90e\");\n",
       "    }\n",
       "    const paths = {\n",
       "      \"vega\": \"https://cdn.jsdelivr.net/npm//vega@5?noext\",\n",
       "      \"vega-lib\": \"https://cdn.jsdelivr.net/npm//vega-lib?noext\",\n",
       "      \"vega-lite\": \"https://cdn.jsdelivr.net/npm//vega-lite@4.17.0?noext\",\n",
       "      \"vega-embed\": \"https://cdn.jsdelivr.net/npm//vega-embed@6?noext\",\n",
       "    };\n",
       "\n",
       "    function maybeLoadScript(lib, version) {\n",
       "      var key = `${lib.replace(\"-\", \"\")}_version`;\n",
       "      return (VEGA_DEBUG[key] == version) ?\n",
       "        Promise.resolve(paths[lib]) :\n",
       "        new Promise(function(resolve, reject) {\n",
       "          var s = document.createElement('script');\n",
       "          document.getElementsByTagName(\"head\")[0].appendChild(s);\n",
       "          s.async = true;\n",
       "          s.onload = () => {\n",
       "            VEGA_DEBUG[key] = version;\n",
       "            return resolve(paths[lib]);\n",
       "          };\n",
       "          s.onerror = () => reject(`Error loading script: ${paths[lib]}`);\n",
       "          s.src = paths[lib];\n",
       "        });\n",
       "    }\n",
       "\n",
       "    function showError(err) {\n",
       "      outputDiv.innerHTML = `<div class=\"error\" style=\"color:red;\">${err}</div>`;\n",
       "      throw err;\n",
       "    }\n",
       "\n",
       "    function displayChart(vegaEmbed) {\n",
       "      vegaEmbed(outputDiv, spec, embedOpt)\n",
       "        .catch(err => showError(`Javascript Error: ${err.message}<br>This usually means there's a typo in your chart specification. See the javascript console for the full traceback.`));\n",
       "    }\n",
       "\n",
       "    if(typeof define === \"function\" && define.amd) {\n",
       "      requirejs.config({paths});\n",
       "      require([\"vega-embed\"], displayChart, err => showError(`Error loading script: ${err.message}`));\n",
       "    } else {\n",
       "      maybeLoadScript(\"vega\", \"5\")\n",
       "        .then(() => maybeLoadScript(\"vega-lite\", \"4.17.0\"))\n",
       "        .then(() => maybeLoadScript(\"vega-embed\", \"6\"))\n",
       "        .catch(showError)\n",
       "        .then(() => displayChart(vegaEmbed));\n",
       "    }\n",
       "  })({\"config\": {\"view\": {\"continuousWidth\": 400, \"continuousHeight\": 300}}, \"layer\": [{\"data\": {\"name\": \"data-c4ea8a7a69b78b3c7ff21bddff5a9e22\"}, \"mark\": \"bar\", \"encoding\": {\"color\": {\"condition\": {\"value\": \"steelblue\", \"test\": \"(datum.value > 0)\"}, \"value\": \"orange\"}, \"x\": {\"field\": \"value\", \"type\": \"quantitative\"}, \"y\": {\"field\": \"comb\", \"sort\": \"-x\", \"type\": \"nominal\"}}}, {\"data\": {\"name\": \"empty\"}, \"mark\": {\"type\": \"rule\", \"color\": \"red\"}, \"encoding\": {\"x\": {\"datum\": 0.8}}}], \"$schema\": \"https://vega.github.io/schema/vega-lite/v4.17.0.json\", \"datasets\": {\"data-c4ea8a7a69b78b3c7ff21bddff5a9e22\": [{\"index\": \"euribor3m\", \"variable\": \"emp.var.rate\", \"value\": 0.9720883876095576, \"comb\": \"euribor3m-emp.var.rate\"}, {\"index\": \"nr.employed\", \"variable\": \"euribor3m\", \"value\": 0.9451127316096276, \"comb\": \"nr.employed-euribor3m\"}, {\"index\": \"nr.employed\", \"variable\": \"emp.var.rate\", \"value\": 0.9064165713485519, \"comb\": \"nr.employed-emp.var.rate\"}, {\"index\": \"cons.price.idx\", \"variable\": \"emp.var.rate\", \"value\": 0.7727321910310939, \"comb\": \"cons.price.idx-emp.var.rate\"}, {\"index\": \"euribor3m\", \"variable\": \"cons.price.idx\", \"value\": 0.6844252651814037, \"comb\": \"euribor3m-cons.price.idx\"}, {\"index\": \"nr.employed\", \"variable\": \"cons.price.idx\", \"value\": 0.5170567718042851, \"comb\": \"nr.employed-cons.price.idx\"}, {\"index\": \"nr.employed\", \"variable\": \"pdays\", \"value\": 0.3738285318633178, \"comb\": \"nr.employed-pdays\"}, {\"index\": \"euribor3m\", \"variable\": \"pdays\", \"value\": 0.2948940550131243, \"comb\": \"euribor3m-pdays\"}, {\"index\": \"euribor3m\", \"variable\": \"cons.conf.idx\", \"value\": 0.2738327812974614, \"comb\": \"euribor3m-cons.conf.idx\"}, {\"index\": \"emp.var.rate\", \"variable\": \"pdays\", \"value\": 0.2672674040077054, \"comb\": \"emp.var.rate-pdays\"}, {\"index\": \"cons.conf.idx\", \"variable\": \"emp.var.rate\", \"value\": 0.19148956826127544, \"comb\": \"cons.conf.idx-emp.var.rate\"}, {\"index\": \"emp.var.rate\", \"variable\": \"campaign\", \"value\": 0.15440604832103524, \"comb\": \"emp.var.rate-campaign\"}, {\"index\": \"nr.employed\", \"variable\": \"campaign\", \"value\": 0.14738600428636126, \"comb\": \"nr.employed-campaign\"}, {\"index\": \"euribor3m\", \"variable\": \"campaign\", \"value\": 0.13830979272961869, \"comb\": \"euribor3m-campaign\"}, {\"index\": \"cons.price.idx\", \"variable\": \"campaign\", \"value\": 0.12887505053319825, \"comb\": \"cons.price.idx-campaign\"}, {\"index\": \"cons.conf.idx\", \"variable\": \"age\", \"value\": 0.12632056684466694, \"comb\": \"cons.conf.idx-age\"}, {\"index\": \"nr.employed\", \"variable\": \"cons.conf.idx\", \"value\": 0.09849579833475666, \"comb\": \"nr.employed-cons.conf.idx\"}, {\"index\": \"cons.price.idx\", \"variable\": \"pdays\", \"value\": 0.06979395354316824, \"comb\": \"cons.price.idx-pdays\"}, {\"index\": \"cons.conf.idx\", \"variable\": \"cons.price.idx\", \"value\": 0.05221523213891144, \"comb\": \"cons.conf.idx-cons.price.idx\"}, {\"index\": \"pdays\", \"variable\": \"campaign\", \"value\": 0.05060411906040307, \"comb\": \"pdays-campaign\"}, {\"index\": \"previous\", \"variable\": \"age\", \"value\": 0.027094471713521102, \"comb\": \"previous-age\"}, {\"index\": \"previous\", \"variable\": \"duration\", \"value\": 0.02069880247778744, \"comb\": \"previous-duration\"}, {\"index\": \"euribor3m\", \"variable\": \"age\", \"value\": 0.010073935273850391, \"comb\": \"euribor3m-age\"}, {\"index\": \"campaign\", \"variable\": \"age\", \"value\": 0.008757805506006794, \"comb\": \"campaign-age\"}, {\"index\": \"cons.price.idx\", \"variable\": \"duration\", \"value\": 0.006034847455071719, \"comb\": \"cons.price.idx-duration\"}, {\"index\": \"cons.price.idx\", \"variable\": \"age\", \"value\": 0.0036817164889537193, \"comb\": \"cons.price.idx-age\"}, {\"index\": \"emp.var.rate\", \"variable\": \"age\", \"value\": -0.0005953398661224308, \"comb\": \"emp.var.rate-age\"}, {\"index\": \"duration\", \"variable\": \"age\", \"value\": -0.003741069142364283, \"comb\": \"duration-age\"}, {\"index\": \"cons.conf.idx\", \"variable\": \"duration\", \"value\": -0.008210362718146671, \"comb\": \"cons.conf.idx-duration\"}, {\"index\": \"cons.conf.idx\", \"variable\": \"campaign\", \"value\": -0.013230727347899046, \"comb\": \"cons.conf.idx-campaign\"}, {\"index\": \"nr.employed\", \"variable\": \"age\", \"value\": -0.018041878915496714, \"comb\": \"nr.employed-age\"}, {\"index\": \"emp.var.rate\", \"variable\": \"duration\", \"value\": -0.02951194285174041, \"comb\": \"emp.var.rate-duration\"}, {\"index\": \"euribor3m\", \"variable\": \"duration\", \"value\": -0.03502796116537661, \"comb\": \"euribor3m-duration\"}, {\"index\": \"pdays\", \"variable\": \"age\", \"value\": -0.0366657373046102, \"comb\": \"pdays-age\"}, {\"index\": \"nr.employed\", \"variable\": \"duration\", \"value\": -0.04727294472306832, \"comb\": \"nr.employed-duration\"}, {\"index\": \"pdays\", \"variable\": \"duration\", \"value\": -0.052064277209902546, \"comb\": \"pdays-duration\"}, {\"index\": \"cons.conf.idx\", \"variable\": \"previous\", \"value\": -0.054665162005504656, \"comb\": \"cons.conf.idx-previous\"}, {\"index\": \"campaign\", \"variable\": \"duration\", \"value\": -0.07244472075241933, \"comb\": \"campaign-duration\"}, {\"index\": \"previous\", \"variable\": \"campaign\", \"value\": -0.07722154186897895, \"comb\": \"previous-campaign\"}, {\"index\": \"cons.conf.idx\", \"variable\": \"pdays\", \"value\": -0.08967141011331481, \"comb\": \"cons.conf.idx-pdays\"}, {\"index\": \"cons.price.idx\", \"variable\": \"previous\", \"value\": -0.19932668424098407, \"comb\": \"cons.price.idx-previous\"}, {\"index\": \"emp.var.rate\", \"variable\": \"previous\", \"value\": -0.41847918289184527, \"comb\": \"emp.var.rate-previous\"}, {\"index\": \"euribor3m\", \"variable\": \"previous\", \"value\": -0.45233770462234135, \"comb\": \"euribor3m-previous\"}, {\"index\": \"nr.employed\", \"variable\": \"previous\", \"value\": -0.4989624684849946, \"comb\": \"nr.employed-previous\"}, {\"index\": \"previous\", \"variable\": \"pdays\", \"value\": -0.5819176870098419, \"comb\": \"previous-pdays\"}], \"empty\": [{}]}}, {\"mode\": \"vega-lite\"});\n",
       "</script>"
      ],
      "text/plain": [
       "alt.LayerChart(...)"
      ]
     },
     "execution_count": 14,
     "metadata": {},
     "output_type": "execute_result"
    }
   ],
   "source": [
    "bank_tr_corr = bank_train.corr()\n",
    "mask = np.triu(np.ones_like(bank_tr_corr, dtype=bool))\n",
    "tri_bank_corr = bank_tr_corr.mask(mask)\n",
    "\n",
    "bank_corr = tri_bank_corr.reset_index().melt(id_vars=\"index\", value_vars=tri_bank_corr.columns).dropna(subset=\"value\").sort_values(\"value\", ascending=False)\n",
    "bank_corr[\"comb\"] = bank_corr[\"index\"].str.cat(bank_corr[\"variable\"], sep=\"-\")\n",
    "\n",
    "corr_bar_plot = alt.Chart(bank_corr).mark_bar().encode(\n",
    "    x=\"value:Q\",\n",
    "    y=alt.Y(\"comb:N\", sort=\"-x\"),\n",
    "    color=alt.condition(\n",
    "        alt.datum.value > 0,\n",
    "        alt.value(\"steelblue\"),\n",
    "        alt.value(\"orange\")\n",
    "    )\n",
    ")\n",
    "\n",
    "vline_corr = alt.Chart().mark_rule(color=\"red\").encode(\n",
    "    x=alt.datum(0.8)\n",
    ")\n",
    "\n",
    "corr_bar_plot + vline_corr"
   ]
  },
  {
   "cell_type": "code",
   "execution_count": 15,
   "metadata": {
    "ExecuteTime": {
     "end_time": "2022-07-23T13:58:32.246955Z",
     "start_time": "2022-07-23T13:58:32.001613Z"
    }
   },
   "outputs": [
    {
     "data": {
      "text/html": [
       "\n",
       "<div id=\"altair-viz-5e9fb2a0e8b94a528feced8f035c2fff\"></div>\n",
       "<script type=\"text/javascript\">\n",
       "  var VEGA_DEBUG = (typeof VEGA_DEBUG == \"undefined\") ? {} : VEGA_DEBUG;\n",
       "  (function(spec, embedOpt){\n",
       "    let outputDiv = document.currentScript.previousElementSibling;\n",
       "    if (outputDiv.id !== \"altair-viz-5e9fb2a0e8b94a528feced8f035c2fff\") {\n",
       "      outputDiv = document.getElementById(\"altair-viz-5e9fb2a0e8b94a528feced8f035c2fff\");\n",
       "    }\n",
       "    const paths = {\n",
       "      \"vega\": \"https://cdn.jsdelivr.net/npm//vega@5?noext\",\n",
       "      \"vega-lib\": \"https://cdn.jsdelivr.net/npm//vega-lib?noext\",\n",
       "      \"vega-lite\": \"https://cdn.jsdelivr.net/npm//vega-lite@4.17.0?noext\",\n",
       "      \"vega-embed\": \"https://cdn.jsdelivr.net/npm//vega-embed@6?noext\",\n",
       "    };\n",
       "\n",
       "    function maybeLoadScript(lib, version) {\n",
       "      var key = `${lib.replace(\"-\", \"\")}_version`;\n",
       "      return (VEGA_DEBUG[key] == version) ?\n",
       "        Promise.resolve(paths[lib]) :\n",
       "        new Promise(function(resolve, reject) {\n",
       "          var s = document.createElement('script');\n",
       "          document.getElementsByTagName(\"head\")[0].appendChild(s);\n",
       "          s.async = true;\n",
       "          s.onload = () => {\n",
       "            VEGA_DEBUG[key] = version;\n",
       "            return resolve(paths[lib]);\n",
       "          };\n",
       "          s.onerror = () => reject(`Error loading script: ${paths[lib]}`);\n",
       "          s.src = paths[lib];\n",
       "        });\n",
       "    }\n",
       "\n",
       "    function showError(err) {\n",
       "      outputDiv.innerHTML = `<div class=\"error\" style=\"color:red;\">${err}</div>`;\n",
       "      throw err;\n",
       "    }\n",
       "\n",
       "    function displayChart(vegaEmbed) {\n",
       "      vegaEmbed(outputDiv, spec, embedOpt)\n",
       "        .catch(err => showError(`Javascript Error: ${err.message}<br>This usually means there's a typo in your chart specification. See the javascript console for the full traceback.`));\n",
       "    }\n",
       "\n",
       "    if(typeof define === \"function\" && define.amd) {\n",
       "      requirejs.config({paths});\n",
       "      require([\"vega-embed\"], displayChart, err => showError(`Error loading script: ${err.message}`));\n",
       "    } else {\n",
       "      maybeLoadScript(\"vega\", \"5\")\n",
       "        .then(() => maybeLoadScript(\"vega-lite\", \"4.17.0\"))\n",
       "        .then(() => maybeLoadScript(\"vega-embed\", \"6\"))\n",
       "        .catch(showError)\n",
       "        .then(() => displayChart(vegaEmbed));\n",
       "    }\n",
       "  })({\"config\": {\"view\": {\"continuousWidth\": 400, \"continuousHeight\": 300}}, \"vconcat\": [{\"hconcat\": [{\"data\": {\"url\": \"../data/interim/bank_train.csv\"}, \"mark\": \"circle\", \"encoding\": {\"color\": {\"field\": \"y\", \"type\": \"nominal\"}, \"x\": {\"field\": \"euribor3m\", \"type\": \"quantitative\"}, \"y\": {\"field\": \"emp\\\\.var\\\\.rate\", \"type\": \"quantitative\"}}}, {\"data\": {\"url\": \"../data/interim/bank_train.csv\"}, \"mark\": \"circle\", \"encoding\": {\"color\": {\"field\": \"y\", \"type\": \"nominal\"}, \"x\": {\"field\": \"euribor3m\", \"type\": \"quantitative\"}, \"y\": {\"field\": \"nr\\\\.employed\", \"scale\": {\"domain\": [4900, 5300]}, \"type\": \"quantitative\"}}}]}, {\"hconcat\": [{\"data\": {\"url\": \"../data/interim/bank_train.csv\"}, \"mark\": \"circle\", \"encoding\": {\"color\": {\"field\": \"y\", \"type\": \"nominal\"}, \"x\": {\"field\": \"emp\\\\.var\\\\.rate\", \"type\": \"quantitative\"}, \"y\": {\"field\": \"nr\\\\.employed\", \"scale\": {\"domain\": [4900, 5300]}, \"type\": \"quantitative\"}}}, {\"data\": {\"url\": \"../data/interim/bank_train.csv\"}, \"mark\": \"circle\", \"encoding\": {\"color\": {\"field\": \"y\", \"type\": \"nominal\"}, \"x\": {\"field\": \"emp\\\\.var\\\\.rate\", \"type\": \"quantitative\"}, \"y\": {\"field\": \"cons\\\\.price\\\\.idx\", \"scale\": {\"domain\": [92, 95]}, \"type\": \"quantitative\"}}}]}], \"$schema\": \"https://vega.github.io/schema/vega-lite/v4.17.0.json\"}, {\"mode\": \"vega-lite\"});\n",
       "</script>"
      ],
      "text/plain": [
       "alt.VConcatChart(...)"
      ]
     },
     "execution_count": 15,
     "metadata": {},
     "output_type": "execute_result"
    }
   ],
   "source": [
    "euribor_empvarrate = alt.Chart(\"../data/interim/bank_train.csv\").mark_circle().encode(\n",
    "    x=\"euribor3m:Q\",\n",
    "    y=\"emp\\\\.var\\\\.rate:Q\",\n",
    "    color=\"y:N\"\n",
    ")\n",
    "\n",
    "euribor_nremployed = alt.Chart(\"../data/interim/bank_train.csv\").mark_circle().encode(\n",
    "    x=\"euribor3m:Q\",\n",
    "    y=alt.Y(\"nr\\\\.employed:Q\", scale=alt.Scale(domain=(4900, 5300))),\n",
    "    color=\"y:N\"\n",
    ")\n",
    "\n",
    "nremployed_empvarrate = alt.Chart(\"../data/interim/bank_train.csv\").mark_circle().encode(\n",
    "    x=\"emp\\\\.var\\\\.rate:Q\",\n",
    "    y=alt.Y(\"nr\\\\.employed:Q\", scale=alt.Scale(domain=(4900, 5300))),\n",
    "    color=\"y:N\"\n",
    ")\n",
    "\n",
    "conspriceindex_empvarrate = alt.Chart(\"../data/interim/bank_train.csv\").mark_circle().encode(\n",
    "    x=\"emp\\\\.var\\\\.rate:Q\",\n",
    "    y=alt.Y(\"cons\\\\.price\\\\.idx:Q\", scale=alt.Scale(domain=(92, 95))),\n",
    "    color=\"y:N\"\n",
    ")\n",
    "\n",
    "(euribor_empvarrate | euribor_nremployed) & (nremployed_empvarrate | conspriceindex_empvarrate)"
   ]
  },
  {
   "cell_type": "markdown",
   "metadata": {},
   "source": [
    "### Sobre `age` e `campaign`"
   ]
  },
  {
   "cell_type": "markdown",
   "metadata": {},
   "source": [
    "A variável `age` tem poucos valores antes dos 24 anos e após os 60. Uma opção é discretizar e ordinalizar essa variável. Tentaremos dividir dessa forma\n",
    "\n",
    "- Até 29;\n",
    "- de 30 a 59\n",
    "- 60 ou mais\n",
    "\n",
    "A ideia então é discretizar em faixas que podem ser interpretadas como \"jovens adultos\", \"adultos\" e \"idosos\"."
   ]
  },
  {
   "cell_type": "markdown",
   "metadata": {},
   "source": [
    "Outra variável numérica pra ser discretizada será `campaign`. Vamos deixar três categorias:\n",
    "\n",
    "- Contato 1 vez;\n",
    "- Contato 2 vezes;\n",
    "- Contato 3 ou mais vezes."
   ]
  },
  {
   "cell_type": "markdown",
   "metadata": {},
   "source": [
    "### Sobre `duration`"
   ]
  },
  {
   "cell_type": "markdown",
   "metadata": {},
   "source": [
    "A variável `duration` mede a duração da ligação. É uma variável extremamente correlacionada com a variável de resposta. Como nota a própria página do banco, se a duração é igual a 0, então y = \"no\". E há uma tendência de que quanto maior o tempo de ligação, maior a chance de y = \"yes\".\n",
    "\n",
    "Ao mesmo tempo, ela não é uma boa variável se o objetivo é ter um modelo de previsão realista se um cliente irá fazer o depósito, pois não é possível saber a duração da ligação *ex-ante*, e sim *ex-post*, ou seja, só depois da ligação ser concluída. Por essa razão ela não será incluida no modelo de treinamento."
   ]
  },
  {
   "cell_type": "markdown",
   "metadata": {},
   "source": [
    "### Sobre `pdays` e `previous`"
   ]
  },
  {
   "cell_type": "markdown",
   "metadata": {},
   "source": [
    "Ambas as variáveis são bastante correlacionadas. `pdays` é o número de dias desde o último contato ao cliente em uma campanha anterior (sendo 999 o valor caso o cliente nunca tenha sido contactado), e `previous` é o número de contatos em campanhas anteriores."
   ]
  },
  {
   "cell_type": "code",
   "execution_count": 16,
   "metadata": {
    "ExecuteTime": {
     "end_time": "2022-07-23T13:58:32.276874Z",
     "start_time": "2022-07-23T13:58:32.252939Z"
    }
   },
   "outputs": [
    {
     "data": {
      "text/plain": [
       "0.9639624015816309"
      ]
     },
     "execution_count": 16,
     "metadata": {},
     "output_type": "execute_result"
    }
   ],
   "source": [
    "np.mean(bank_train[\"pdays\"] == 999)"
   ]
  },
  {
   "cell_type": "markdown",
   "metadata": {},
   "source": [
    "`pdays` é uma variável com pouquissima variação, como se percebe. Um pouco mais de 96% das observações nunca foram contactadas, ou seja, tem valor 999. Sendo o objetivo a previsão, ela parece ser uma variável ruim pois tende a performar mal em um conjunto de dados nunca visto."
   ]
  },
  {
   "cell_type": "markdown",
   "metadata": {},
   "source": [
    "`previous` também sofre com pouca variação. Um pouco mais de 86% das observações não foram contactadas em campanhas anteriores. Por ser uma situação \"menos grave\" comparada a `pdays` vamos mante-la na hora de treinar o modelo."
   ]
  },
  {
   "cell_type": "code",
   "execution_count": 17,
   "metadata": {
    "ExecuteTime": {
     "end_time": "2022-07-23T13:58:32.358114Z",
     "start_time": "2022-07-23T13:58:32.278869Z"
    }
   },
   "outputs": [
    {
     "data": {
      "text/plain": [
       "0.8638965002948216"
      ]
     },
     "execution_count": 17,
     "metadata": {},
     "output_type": "execute_result"
    }
   ],
   "source": [
    "np.mean(bank_train[\"previous\"] == 0)"
   ]
  },
  {
   "cell_type": "code",
   "execution_count": 18,
   "metadata": {
    "ExecuteTime": {
     "end_time": "2022-07-23T13:58:32.436552Z",
     "start_time": "2022-07-23T13:58:32.362104Z"
    }
   },
   "outputs": [
    {
     "data": {
      "text/plain": [
       "0    0.863897\n",
       "1    0.110090\n",
       "2    0.018418\n",
       "3    0.005446\n",
       "4    0.001596\n",
       "5    0.000416\n",
       "6    0.000104\n",
       "7    0.000035\n",
       "Name: previous, dtype: float64"
      ]
     },
     "execution_count": 18,
     "metadata": {},
     "output_type": "execute_result"
    }
   ],
   "source": [
    "bank_train[\"previous\"].value_counts(normalize=True)"
   ]
  },
  {
   "cell_type": "markdown",
   "metadata": {},
   "source": [
    "Se percebe também que há muita pouca representação nessa variável para além do valor 0 e 1. Uma melhor opção vai ser agregar os outros valores iguais ou maiores que 2. A variável ficaria então assim: 0 (nunca foi contactado), 1 (contactado uma vez) e 2 (contactado 2 ou mais vezes)"
   ]
  },
  {
   "cell_type": "markdown",
   "metadata": {},
   "source": [
    "Uma observação final é que algo parece estranho nas duas variáveis. Segundo a descrição das variáveis, disponível no [site](https://archive.ics.uci.edu/ml/datasets/Bank+Marketing) do banco, quando `pdays` for igual a 999 significa que o cliente nunca foi contactado em campanhas anteriores, e como `previous` é uma variável que diz quantas vezes o cliente foi contactado em campanhas anteriores, espera-se que se `pdays` = 999, então `previous` = 0. Mas isso não acontece."
   ]
  },
  {
   "cell_type": "code",
   "execution_count": 19,
   "metadata": {
    "ExecuteTime": {
     "end_time": "2022-07-23T13:58:32.513596Z",
     "start_time": "2022-07-23T13:58:32.439545Z"
    }
   },
   "outputs": [
    {
     "data": {
      "text/plain": [
       "0.8999340987131906"
      ]
     },
     "execution_count": 19,
     "metadata": {},
     "output_type": "execute_result"
    }
   ],
   "source": [
    "np.mean((bank_train[\"pdays\"] == 999) == (bank_train[\"previous\"] == 0))"
   ]
  },
  {
   "cell_type": "markdown",
   "metadata": {},
   "source": [
    "Existe uma correlação forte, obviamente. Em cerca de 90% das vezes que `pdays` é 999, `previous` é 0. Mas o que acontece nos outros 10%, quando `pdays` é 999 e `previous` é diferente de 0?\n",
    "\n",
    "A partir daqui vamos só supor que há justifativa para essa diferença e que provavelmente apenas interpretei errado a descrição das variáveis."
   ]
  },
  {
   "cell_type": "markdown",
   "metadata": {},
   "source": [
    "### Sobre `emp.var.rate`, `nr.employed` e `euribor3m`"
   ]
  },
  {
   "cell_type": "code",
   "execution_count": 11,
   "metadata": {
    "ExecuteTime": {
     "end_time": "2022-07-24T00:25:47.174831Z",
     "start_time": "2022-07-24T00:25:47.164857Z"
    }
   },
   "outputs": [],
   "source": [
    "from sklearn.decomposition import PCA\n",
    "from sklearn.preprocessing import StandardScaler"
   ]
  },
  {
   "cell_type": "code",
   "execution_count": 12,
   "metadata": {
    "ExecuteTime": {
     "end_time": "2022-07-24T00:25:47.644469Z",
     "start_time": "2022-07-24T00:25:47.614536Z"
    }
   },
   "outputs": [],
   "source": [
    "sdsc = StandardScaler()\n",
    "X = sdsc.fit_transform(bank_train[[\"emp.var.rate\", \"nr.employed\", \"euribor3m\"]])"
   ]
  },
  {
   "cell_type": "code",
   "execution_count": 13,
   "metadata": {
    "ExecuteTime": {
     "end_time": "2022-07-24T00:25:48.128688Z",
     "start_time": "2022-07-24T00:25:48.105746Z"
    }
   },
   "outputs": [
    {
     "data": {
      "text/plain": [
       "array([[-1.9626344 , -1.97834612, -1.67856498],\n",
       "       [-1.1987658 , -0.93618176, -1.36678036],\n",
       "       [ 0.64724998,  0.33068207,  0.71370482],\n",
       "       ...,\n",
       "       [-2.21725726, -2.06105758, -1.65263096],\n",
       "       [ 0.64724998,  0.33068207,  0.71139958],\n",
       "       [ 0.83821713,  0.84211458,  0.77133599]])"
      ]
     },
     "execution_count": 13,
     "metadata": {},
     "output_type": "execute_result"
    }
   ],
   "source": [
    "X"
   ]
  },
  {
   "cell_type": "code",
   "execution_count": 14,
   "metadata": {
    "ExecuteTime": {
     "end_time": "2022-07-24T00:25:51.636454Z",
     "start_time": "2022-07-24T00:25:51.621491Z"
    }
   },
   "outputs": [],
   "source": [
    "pca = PCA(n_components=1)"
   ]
  },
  {
   "cell_type": "code",
   "execution_count": 15,
   "metadata": {
    "ExecuteTime": {
     "end_time": "2022-07-24T00:25:52.440093Z",
     "start_time": "2022-07-24T00:25:52.122192Z"
    }
   },
   "outputs": [
    {
     "data": {
      "text/plain": [
       "array([[ 3.24219884],\n",
       "       [ 2.02448245],\n",
       "       [-0.97910046],\n",
       "       ...,\n",
       "       [ 3.42109286],\n",
       "       [-0.97775335],\n",
       "       [-1.4149112 ]])"
      ]
     },
     "execution_count": 15,
     "metadata": {},
     "output_type": "execute_result"
    }
   ],
   "source": [
    "pca.fit_transform(X)"
   ]
  },
  {
   "cell_type": "code",
   "execution_count": 25,
   "metadata": {
    "ExecuteTime": {
     "end_time": "2022-07-23T13:58:44.884813Z",
     "start_time": "2022-07-23T13:58:44.873841Z"
    }
   },
   "outputs": [
    {
     "data": {
      "text/plain": [
       "array([0.96088934, 0.03227328, 0.00683738])"
      ]
     },
     "execution_count": 25,
     "metadata": {},
     "output_type": "execute_result"
    }
   ],
   "source": [
    "pca.explained_variance_ratio_"
   ]
  },
  {
   "cell_type": "markdown",
   "metadata": {},
   "source": [
    "emp.var.rate, nr.employed, e euribor3m são muito correlacionadas entre si. Um PCA pode reduzir para um componente com ~96% de variância explicada."
   ]
  },
  {
   "cell_type": "markdown",
   "metadata": {},
   "source": [
    "## Variáveis Categóricas"
   ]
  },
  {
   "cell_type": "code",
   "execution_count": 26,
   "metadata": {
    "ExecuteTime": {
     "end_time": "2022-07-23T13:58:44.978762Z",
     "start_time": "2022-07-23T13:58:44.887803Z"
    }
   },
   "outputs": [],
   "source": [
    "def plot_bar(y):\n",
    "    chart = alt.Chart(\"../data/interim/bank_train.csv\").mark_bar().encode(\n",
    "        y=y,\n",
    "        x=\"count()\",\n",
    "        color=\"y:N\"\n",
    "    )\n",
    "    return chart"
   ]
  },
  {
   "cell_type": "code",
   "execution_count": 27,
   "metadata": {
    "ExecuteTime": {
     "end_time": "2022-07-23T13:58:45.200024Z",
     "start_time": "2022-07-23T13:58:44.982709Z"
    }
   },
   "outputs": [
    {
     "data": {
      "text/html": [
       "\n",
       "<div id=\"altair-viz-4716b7890a9c43779f6fbbab72bcd93d\"></div>\n",
       "<script type=\"text/javascript\">\n",
       "  var VEGA_DEBUG = (typeof VEGA_DEBUG == \"undefined\") ? {} : VEGA_DEBUG;\n",
       "  (function(spec, embedOpt){\n",
       "    let outputDiv = document.currentScript.previousElementSibling;\n",
       "    if (outputDiv.id !== \"altair-viz-4716b7890a9c43779f6fbbab72bcd93d\") {\n",
       "      outputDiv = document.getElementById(\"altair-viz-4716b7890a9c43779f6fbbab72bcd93d\");\n",
       "    }\n",
       "    const paths = {\n",
       "      \"vega\": \"https://cdn.jsdelivr.net/npm//vega@5?noext\",\n",
       "      \"vega-lib\": \"https://cdn.jsdelivr.net/npm//vega-lib?noext\",\n",
       "      \"vega-lite\": \"https://cdn.jsdelivr.net/npm//vega-lite@4.17.0?noext\",\n",
       "      \"vega-embed\": \"https://cdn.jsdelivr.net/npm//vega-embed@6?noext\",\n",
       "    };\n",
       "\n",
       "    function maybeLoadScript(lib, version) {\n",
       "      var key = `${lib.replace(\"-\", \"\")}_version`;\n",
       "      return (VEGA_DEBUG[key] == version) ?\n",
       "        Promise.resolve(paths[lib]) :\n",
       "        new Promise(function(resolve, reject) {\n",
       "          var s = document.createElement('script');\n",
       "          document.getElementsByTagName(\"head\")[0].appendChild(s);\n",
       "          s.async = true;\n",
       "          s.onload = () => {\n",
       "            VEGA_DEBUG[key] = version;\n",
       "            return resolve(paths[lib]);\n",
       "          };\n",
       "          s.onerror = () => reject(`Error loading script: ${paths[lib]}`);\n",
       "          s.src = paths[lib];\n",
       "        });\n",
       "    }\n",
       "\n",
       "    function showError(err) {\n",
       "      outputDiv.innerHTML = `<div class=\"error\" style=\"color:red;\">${err}</div>`;\n",
       "      throw err;\n",
       "    }\n",
       "\n",
       "    function displayChart(vegaEmbed) {\n",
       "      vegaEmbed(outputDiv, spec, embedOpt)\n",
       "        .catch(err => showError(`Javascript Error: ${err.message}<br>This usually means there's a typo in your chart specification. See the javascript console for the full traceback.`));\n",
       "    }\n",
       "\n",
       "    if(typeof define === \"function\" && define.amd) {\n",
       "      requirejs.config({paths});\n",
       "      require([\"vega-embed\"], displayChart, err => showError(`Error loading script: ${err.message}`));\n",
       "    } else {\n",
       "      maybeLoadScript(\"vega\", \"5\")\n",
       "        .then(() => maybeLoadScript(\"vega-lite\", \"4.17.0\"))\n",
       "        .then(() => maybeLoadScript(\"vega-embed\", \"6\"))\n",
       "        .catch(showError)\n",
       "        .then(() => displayChart(vegaEmbed));\n",
       "    }\n",
       "  })({\"config\": {\"view\": {\"continuousWidth\": 400, \"continuousHeight\": 300}}, \"vconcat\": [{\"hconcat\": [{\"mark\": \"bar\", \"encoding\": {\"color\": {\"field\": \"y\", \"type\": \"nominal\"}, \"x\": {\"aggregate\": \"count\", \"type\": \"quantitative\"}, \"y\": {\"field\": \"job\", \"type\": \"nominal\"}}}, {\"mark\": \"bar\", \"encoding\": {\"color\": {\"field\": \"y\", \"type\": \"nominal\"}, \"x\": {\"aggregate\": \"count\", \"type\": \"quantitative\"}, \"y\": {\"field\": \"marital\", \"type\": \"nominal\"}}, \"height\": 241}]}, {\"hconcat\": [{\"mark\": \"bar\", \"encoding\": {\"color\": {\"field\": \"y\", \"type\": \"nominal\"}, \"x\": {\"aggregate\": \"count\", \"type\": \"quantitative\"}, \"y\": {\"field\": \"education\", \"type\": \"nominal\"}}}, {\"mark\": \"bar\", \"encoding\": {\"color\": {\"field\": \"y\", \"type\": \"nominal\"}, \"x\": {\"aggregate\": \"count\", \"type\": \"quantitative\"}, \"y\": {\"field\": \"default\", \"type\": \"nominal\"}}, \"height\": 160}]}], \"data\": {\"url\": \"../data/interim/bank_train.csv\"}, \"$schema\": \"https://vega.github.io/schema/vega-lite/v4.17.0.json\"}, {\"mode\": \"vega-lite\"});\n",
       "</script>"
      ],
      "text/plain": [
       "alt.VConcatChart(...)"
      ]
     },
     "execution_count": 27,
     "metadata": {},
     "output_type": "execute_result"
    }
   ],
   "source": [
    "(plot_bar(\"job:N\") | plot_bar(\"marital:N\").properties(height=241)) & (plot_bar(\"education:N\") | plot_bar(\"default:N\").properties(height=160))"
   ]
  },
  {
   "cell_type": "code",
   "execution_count": 28,
   "metadata": {
    "ExecuteTime": {
     "end_time": "2022-07-23T13:58:45.438386Z",
     "start_time": "2022-07-23T13:58:45.212990Z"
    }
   },
   "outputs": [
    {
     "data": {
      "text/html": [
       "\n",
       "<div id=\"altair-viz-93d3e495832c4e7c9a0525a17d586781\"></div>\n",
       "<script type=\"text/javascript\">\n",
       "  var VEGA_DEBUG = (typeof VEGA_DEBUG == \"undefined\") ? {} : VEGA_DEBUG;\n",
       "  (function(spec, embedOpt){\n",
       "    let outputDiv = document.currentScript.previousElementSibling;\n",
       "    if (outputDiv.id !== \"altair-viz-93d3e495832c4e7c9a0525a17d586781\") {\n",
       "      outputDiv = document.getElementById(\"altair-viz-93d3e495832c4e7c9a0525a17d586781\");\n",
       "    }\n",
       "    const paths = {\n",
       "      \"vega\": \"https://cdn.jsdelivr.net/npm//vega@5?noext\",\n",
       "      \"vega-lib\": \"https://cdn.jsdelivr.net/npm//vega-lib?noext\",\n",
       "      \"vega-lite\": \"https://cdn.jsdelivr.net/npm//vega-lite@4.17.0?noext\",\n",
       "      \"vega-embed\": \"https://cdn.jsdelivr.net/npm//vega-embed@6?noext\",\n",
       "    };\n",
       "\n",
       "    function maybeLoadScript(lib, version) {\n",
       "      var key = `${lib.replace(\"-\", \"\")}_version`;\n",
       "      return (VEGA_DEBUG[key] == version) ?\n",
       "        Promise.resolve(paths[lib]) :\n",
       "        new Promise(function(resolve, reject) {\n",
       "          var s = document.createElement('script');\n",
       "          document.getElementsByTagName(\"head\")[0].appendChild(s);\n",
       "          s.async = true;\n",
       "          s.onload = () => {\n",
       "            VEGA_DEBUG[key] = version;\n",
       "            return resolve(paths[lib]);\n",
       "          };\n",
       "          s.onerror = () => reject(`Error loading script: ${paths[lib]}`);\n",
       "          s.src = paths[lib];\n",
       "        });\n",
       "    }\n",
       "\n",
       "    function showError(err) {\n",
       "      outputDiv.innerHTML = `<div class=\"error\" style=\"color:red;\">${err}</div>`;\n",
       "      throw err;\n",
       "    }\n",
       "\n",
       "    function displayChart(vegaEmbed) {\n",
       "      vegaEmbed(outputDiv, spec, embedOpt)\n",
       "        .catch(err => showError(`Javascript Error: ${err.message}<br>This usually means there's a typo in your chart specification. See the javascript console for the full traceback.`));\n",
       "    }\n",
       "\n",
       "    if(typeof define === \"function\" && define.amd) {\n",
       "      requirejs.config({paths});\n",
       "      require([\"vega-embed\"], displayChart, err => showError(`Error loading script: ${err.message}`));\n",
       "    } else {\n",
       "      maybeLoadScript(\"vega\", \"5\")\n",
       "        .then(() => maybeLoadScript(\"vega-lite\", \"4.17.0\"))\n",
       "        .then(() => maybeLoadScript(\"vega-embed\", \"6\"))\n",
       "        .catch(showError)\n",
       "        .then(() => displayChart(vegaEmbed));\n",
       "    }\n",
       "  })({\"config\": {\"view\": {\"continuousWidth\": 400, \"continuousHeight\": 300}}, \"vconcat\": [{\"hconcat\": [{\"mark\": \"bar\", \"encoding\": {\"color\": {\"field\": \"y\", \"type\": \"nominal\"}, \"x\": {\"aggregate\": \"count\", \"type\": \"quantitative\"}, \"y\": {\"field\": \"housing\", \"type\": \"nominal\"}}, \"height\": 160}, {\"mark\": \"bar\", \"encoding\": {\"color\": {\"field\": \"y\", \"type\": \"nominal\"}, \"x\": {\"aggregate\": \"count\", \"type\": \"quantitative\"}, \"y\": {\"field\": \"loan\", \"type\": \"nominal\"}}, \"height\": 160}]}, {\"hconcat\": [{\"mark\": \"bar\", \"encoding\": {\"color\": {\"field\": \"y\", \"type\": \"nominal\"}, \"x\": {\"aggregate\": \"count\", \"type\": \"quantitative\"}, \"y\": {\"field\": \"contact\", \"type\": \"nominal\"}}, \"height\": 200}, {\"mark\": \"bar\", \"encoding\": {\"color\": {\"field\": \"y\", \"type\": \"nominal\"}, \"x\": {\"aggregate\": \"count\", \"type\": \"quantitative\"}, \"y\": {\"field\": \"month\", \"type\": \"nominal\"}}}]}], \"data\": {\"url\": \"../data/interim/bank_train.csv\"}, \"$schema\": \"https://vega.github.io/schema/vega-lite/v4.17.0.json\"}, {\"mode\": \"vega-lite\"});\n",
       "</script>"
      ],
      "text/plain": [
       "alt.VConcatChart(...)"
      ]
     },
     "execution_count": 28,
     "metadata": {},
     "output_type": "execute_result"
    }
   ],
   "source": [
    "(plot_bar(\"housing:N\").properties(height=160) | plot_bar(\"loan:N\").properties(height=160)) & (plot_bar(\"contact:N\").properties(height=200) | plot_bar(\"month:N\"))"
   ]
  },
  {
   "cell_type": "code",
   "execution_count": 29,
   "metadata": {
    "ExecuteTime": {
     "end_time": "2022-07-23T13:58:46.380959Z",
     "start_time": "2022-07-23T13:58:45.445369Z"
    }
   },
   "outputs": [
    {
     "data": {
      "text/html": [
       "\n",
       "<div id=\"altair-viz-788ac7c21ecb4ec6a8e07a14e2527d61\"></div>\n",
       "<script type=\"text/javascript\">\n",
       "  var VEGA_DEBUG = (typeof VEGA_DEBUG == \"undefined\") ? {} : VEGA_DEBUG;\n",
       "  (function(spec, embedOpt){\n",
       "    let outputDiv = document.currentScript.previousElementSibling;\n",
       "    if (outputDiv.id !== \"altair-viz-788ac7c21ecb4ec6a8e07a14e2527d61\") {\n",
       "      outputDiv = document.getElementById(\"altair-viz-788ac7c21ecb4ec6a8e07a14e2527d61\");\n",
       "    }\n",
       "    const paths = {\n",
       "      \"vega\": \"https://cdn.jsdelivr.net/npm//vega@5?noext\",\n",
       "      \"vega-lib\": \"https://cdn.jsdelivr.net/npm//vega-lib?noext\",\n",
       "      \"vega-lite\": \"https://cdn.jsdelivr.net/npm//vega-lite@4.17.0?noext\",\n",
       "      \"vega-embed\": \"https://cdn.jsdelivr.net/npm//vega-embed@6?noext\",\n",
       "    };\n",
       "\n",
       "    function maybeLoadScript(lib, version) {\n",
       "      var key = `${lib.replace(\"-\", \"\")}_version`;\n",
       "      return (VEGA_DEBUG[key] == version) ?\n",
       "        Promise.resolve(paths[lib]) :\n",
       "        new Promise(function(resolve, reject) {\n",
       "          var s = document.createElement('script');\n",
       "          document.getElementsByTagName(\"head\")[0].appendChild(s);\n",
       "          s.async = true;\n",
       "          s.onload = () => {\n",
       "            VEGA_DEBUG[key] = version;\n",
       "            return resolve(paths[lib]);\n",
       "          };\n",
       "          s.onerror = () => reject(`Error loading script: ${paths[lib]}`);\n",
       "          s.src = paths[lib];\n",
       "        });\n",
       "    }\n",
       "\n",
       "    function showError(err) {\n",
       "      outputDiv.innerHTML = `<div class=\"error\" style=\"color:red;\">${err}</div>`;\n",
       "      throw err;\n",
       "    }\n",
       "\n",
       "    function displayChart(vegaEmbed) {\n",
       "      vegaEmbed(outputDiv, spec, embedOpt)\n",
       "        .catch(err => showError(`Javascript Error: ${err.message}<br>This usually means there's a typo in your chart specification. See the javascript console for the full traceback.`));\n",
       "    }\n",
       "\n",
       "    if(typeof define === \"function\" && define.amd) {\n",
       "      requirejs.config({paths});\n",
       "      require([\"vega-embed\"], displayChart, err => showError(`Error loading script: ${err.message}`));\n",
       "    } else {\n",
       "      maybeLoadScript(\"vega\", \"5\")\n",
       "        .then(() => maybeLoadScript(\"vega-lite\", \"4.17.0\"))\n",
       "        .then(() => maybeLoadScript(\"vega-embed\", \"6\"))\n",
       "        .catch(showError)\n",
       "        .then(() => displayChart(vegaEmbed));\n",
       "    }\n",
       "  })({\"config\": {\"view\": {\"continuousWidth\": 400, \"continuousHeight\": 300}}, \"hconcat\": [{\"mark\": \"bar\", \"encoding\": {\"color\": {\"field\": \"y\", \"type\": \"nominal\"}, \"x\": {\"aggregate\": \"count\", \"type\": \"quantitative\"}, \"y\": {\"field\": \"day_of_week\", \"type\": \"nominal\"}}}, {\"mark\": \"bar\", \"encoding\": {\"color\": {\"field\": \"y\", \"type\": \"nominal\"}, \"x\": {\"aggregate\": \"count\", \"type\": \"quantitative\"}, \"y\": {\"field\": \"poutcome\", \"type\": \"nominal\"}}}], \"data\": {\"url\": \"../data/interim/bank_train.csv\"}, \"$schema\": \"https://vega.github.io/schema/vega-lite/v4.17.0.json\"}, {\"mode\": \"vega-lite\"});\n",
       "</script>"
      ],
      "text/plain": [
       "alt.HConcatChart(...)"
      ]
     },
     "execution_count": 29,
     "metadata": {},
     "output_type": "execute_result"
    }
   ],
   "source": [
    "plot_bar(\"day_of_week:N\") | plot_bar(\"poutcome:N\")"
   ]
  },
  {
   "cell_type": "markdown",
   "metadata": {},
   "source": [
    "### Sobre `job`"
   ]
  },
  {
   "cell_type": "markdown",
   "metadata": {},
   "source": [
    "São doze categorias em `job`. Codificar essa variável com o OneHotEncoder introduziria muitas dimensões e ao mesmo tempo não há uma ordinalidade natural nessa variável. Uma opção melhor é usar o `TargetEncoder` do pacote `categorial_encoders`."
   ]
  },
  {
   "cell_type": "markdown",
   "metadata": {},
   "source": [
    "### Sobre `marital` e `default`,"
   ]
  },
  {
   "cell_type": "markdown",
   "metadata": {},
   "source": [
    "Baixa representação de unknown em `marital` e yes em `default`. Dropar ambas as categorias na hora de fazer o OneHot."
   ]
  },
  {
   "cell_type": "markdown",
   "metadata": {},
   "source": [
    "### Sobre `education`, `month` e `day_of_week`."
   ]
  },
  {
   "cell_type": "markdown",
   "metadata": {},
   "source": [
    "Em `education` agregar categorias \"basic\" em uma categoria só, e usar um `OrdinalEncoder`, dado uma ordinalidade natural nessa variável: basic -> high school -> professional -> university.\n",
    "\n",
    "`month` e `day_of_week` também tem uma ordinalidade natural, então é só aplicar o `OrdinalEncoder`."
   ]
  },
  {
   "cell_type": "markdown",
   "metadata": {},
   "source": [
    "### Sobre `poutcome`"
   ]
  },
  {
   "cell_type": "markdown",
   "metadata": {},
   "source": [
    "Existe um pouco de redundancia com `poutcome` e `previous`. Se `poutcome` = \"nonexistent\" então `previous` = 0. E assim como `previous`, a variável é bem concentrada em uma só categoria, nonexistent. Mas manteremos."
   ]
  },
  {
   "cell_type": "code",
   "execution_count": 32,
   "metadata": {
    "ExecuteTime": {
     "end_time": "2022-07-23T13:58:46.661587Z",
     "start_time": "2022-07-23T13:58:46.591776Z"
    }
   },
   "outputs": [
    {
     "data": {
      "text/plain": [
       "0    0.863897\n",
       "1    0.110090\n",
       "2    0.018418\n",
       "3    0.005446\n",
       "4    0.001596\n",
       "5    0.000416\n",
       "6    0.000104\n",
       "7    0.000035\n",
       "Name: previous, dtype: float64"
      ]
     },
     "execution_count": 32,
     "metadata": {},
     "output_type": "execute_result"
    }
   ],
   "source": [
    "bank_train[\"previous\"].value_counts(normalize=True)"
   ]
  },
  {
   "cell_type": "code",
   "execution_count": 34,
   "metadata": {
    "ExecuteTime": {
     "end_time": "2022-07-23T13:59:00.616589Z",
     "start_time": "2022-07-23T13:59:00.590738Z"
    }
   },
   "outputs": [
    {
     "data": {
      "text/plain": [
       "nonexistent    0.863897\n",
       "failure        0.103500\n",
       "success        0.032604\n",
       "Name: poutcome, dtype: float64"
      ]
     },
     "execution_count": 34,
     "metadata": {},
     "output_type": "execute_result"
    }
   ],
   "source": [
    "bank_train[\"poutcome\"].value_counts(normalize=True)"
   ]
  }
 ],
 "metadata": {
  "kernelspec": {
   "display_name": "Python 3 (ipykernel)",
   "language": "python",
   "name": "python3"
  },
  "language_info": {
   "codemirror_mode": {
    "name": "ipython",
    "version": 3
   },
   "file_extension": ".py",
   "mimetype": "text/x-python",
   "name": "python",
   "nbconvert_exporter": "python",
   "pygments_lexer": "ipython3",
   "version": "3.9.13"
  },
  "toc": {
   "base_numbering": 1,
   "nav_menu": {},
   "number_sections": true,
   "sideBar": true,
   "skip_h1_title": false,
   "title_cell": "Table of Contents",
   "title_sidebar": "Contents",
   "toc_cell": false,
   "toc_position": {},
   "toc_section_display": true,
   "toc_window_display": true
  },
  "vscode": {
   "interpreter": {
    "hash": "effa1489f8ef16e57f876bc79ef2129e76b236bb73a001bca583a61e383b88aa"
   }
  }
 },
 "nbformat": 4,
 "nbformat_minor": 2
}
